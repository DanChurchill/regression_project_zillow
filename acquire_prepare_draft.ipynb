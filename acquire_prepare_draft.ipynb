{
 "cells": [
  {
   "cell_type": "code",
   "execution_count": 43,
   "id": "4db924b6",
   "metadata": {},
   "outputs": [],
   "source": [
    "# initial notebook prior to acquire.py and explore.py being created.  Just exploring and familiarizing myself\n",
    "# with the data\n",
    "\n",
    "import pandas as pd\n",
    "import numpy as np\n",
    "import env\n",
    "from datetime import datetime\n",
    "import matplotlib as plt\n",
    "import seaborn as sns\n"
   ]
  },
  {
   "cell_type": "code",
   "execution_count": 44,
   "id": "8b4baf9d",
   "metadata": {},
   "outputs": [],
   "source": [
    "url = env.get_url(env.user, env.host, env.password, 'zillow')"
   ]
  },
  {
   "cell_type": "code",
   "execution_count": 76,
   "id": "e538c4d6",
   "metadata": {},
   "outputs": [],
   "source": [
    "df = pd.read_sql('''\n",
    "                SELECT parcelid, bathroomcnt, bedroomcnt, calculatedfinishedsquarefeet as sqft, fips as county, fireplacecnt,\n",
    "                       fullbathcnt, garagecarcnt, garagetotalsqft, hashottuborspa, lotsizesquarefeet, poolcnt, rawcensustractandblock,\n",
    "                       roomcnt, unitcnt, yearbuilt, structuretaxvaluedollarcnt, taxvaluedollarcnt, landtaxvaluedollarcnt,\n",
    "                       taxdelinquencyflag, taxdelinquencyyear, logerror, transactiondate, propertylandusedesc\n",
    "                FROM properties_2017\n",
    "                JOIN predictions_2017\n",
    "                USING (parcelid)\n",
    "                JOIN propertylandusetype\n",
    "                USING (propertylandusetypeid)\n",
    "                HAVING propertylandusedesc = 'Single Family Residential'\n",
    "                    ''', url)"
   ]
  },
  {
   "cell_type": "code",
   "execution_count": 77,
   "id": "fd88aa75",
   "metadata": {},
   "outputs": [
    {
     "data": {
      "text/plain": [
       "(52442, 26)"
      ]
     },
     "execution_count": 77,
     "metadata": {},
     "output_type": "execute_result"
    }
   ],
   "source": [
    "df.shape"
   ]
  },
  {
   "cell_type": "code",
   "execution_count": 98,
   "id": "2ef2fbbd",
   "metadata": {},
   "outputs": [
    {
     "name": "stdout",
     "output_type": "stream",
     "text": [
      "<class 'pandas.core.frame.DataFrame'>\n",
      "Int64Index: 49725 entries, 0 to 52440\n",
      "Data columns (total 23 columns):\n",
      " #   Column                      Non-Null Count  Dtype         \n",
      "---  ------                      --------------  -----         \n",
      " 0   parcelid                    49725 non-null  int64         \n",
      " 1   bathroomcnt                 49725 non-null  float64       \n",
      " 2   bedroomcnt                  49725 non-null  float64       \n",
      " 3   sqft                        49725 non-null  float64       \n",
      " 4   county                      49725 non-null  object        \n",
      " 5   fireplacecnt                49725 non-null  float64       \n",
      " 6   fullbathcnt                 49725 non-null  float64       \n",
      " 7   garagecarcnt                49725 non-null  float64       \n",
      " 8   garagetotalsqft             49725 non-null  float64       \n",
      " 9   hashottuborspa              49725 non-null  float64       \n",
      " 10  lotsizesquarefeet           49725 non-null  float64       \n",
      " 11  poolcnt                     49725 non-null  float64       \n",
      " 12  rawcensustractandblock      49725 non-null  float64       \n",
      " 13  roomcnt                     49725 non-null  float64       \n",
      " 14  yearbuilt                   49725 non-null  float64       \n",
      " 15  structuretaxvaluedollarcnt  49725 non-null  float64       \n",
      " 16  taxvaluedollarcnt           49725 non-null  float64       \n",
      " 17  landtaxvaluedollarcnt       49725 non-null  float64       \n",
      " 18  taxamount                   49725 non-null  float64       \n",
      " 19  censustractandblock         49725 non-null  float64       \n",
      " 20  logerror                    49725 non-null  float64       \n",
      " 21  transactiondate             49725 non-null  datetime64[ns]\n",
      " 22  propertylandusedesc         49725 non-null  object        \n",
      "dtypes: datetime64[ns](1), float64(19), int64(1), object(2)\n",
      "memory usage: 9.1+ MB\n"
     ]
    }
   ],
   "source": [
    "df.info()"
   ]
  },
  {
   "cell_type": "code",
   "execution_count": 79,
   "id": "a20ffedc",
   "metadata": {},
   "outputs": [
    {
     "data": {
      "text/html": [
       "<div>\n",
       "<style scoped>\n",
       "    .dataframe tbody tr th:only-of-type {\n",
       "        vertical-align: middle;\n",
       "    }\n",
       "\n",
       "    .dataframe tbody tr th {\n",
       "        vertical-align: top;\n",
       "    }\n",
       "\n",
       "    .dataframe thead th {\n",
       "        text-align: right;\n",
       "    }\n",
       "</style>\n",
       "<table border=\"1\" class=\"dataframe\">\n",
       "  <thead>\n",
       "    <tr style=\"text-align: right;\">\n",
       "      <th></th>\n",
       "      <th>parcelid</th>\n",
       "      <th>bathroomcnt</th>\n",
       "      <th>bedroomcnt</th>\n",
       "      <th>sqft</th>\n",
       "      <th>county</th>\n",
       "      <th>fireplacecnt</th>\n",
       "      <th>fullbathcnt</th>\n",
       "      <th>garagecarcnt</th>\n",
       "      <th>garagetotalsqft</th>\n",
       "      <th>hashottuborspa</th>\n",
       "      <th>...</th>\n",
       "      <th>structuretaxvaluedollarcnt</th>\n",
       "      <th>taxvaluedollarcnt</th>\n",
       "      <th>landtaxvaluedollarcnt</th>\n",
       "      <th>taxamount</th>\n",
       "      <th>taxdelinquencyflag</th>\n",
       "      <th>taxdelinquencyyear</th>\n",
       "      <th>censustractandblock</th>\n",
       "      <th>logerror</th>\n",
       "      <th>transactiondate</th>\n",
       "      <th>propertylandusedesc</th>\n",
       "    </tr>\n",
       "  </thead>\n",
       "  <tbody>\n",
       "    <tr>\n",
       "      <th>10141</th>\n",
       "      <td>13083743</td>\n",
       "      <td>2.0</td>\n",
       "      <td>3.0</td>\n",
       "      <td>1050.0</td>\n",
       "      <td>6037.0</td>\n",
       "      <td>NaN</td>\n",
       "      <td>2.0</td>\n",
       "      <td>NaN</td>\n",
       "      <td>NaN</td>\n",
       "      <td>NaN</td>\n",
       "      <td>...</td>\n",
       "      <td>77118.0</td>\n",
       "      <td>259334.0</td>\n",
       "      <td>182216.0</td>\n",
       "      <td>3345.78</td>\n",
       "      <td>None</td>\n",
       "      <td>NaN</td>\n",
       "      <td>6.037408e+13</td>\n",
       "      <td>0.138146</td>\n",
       "      <td>2017-03-07</td>\n",
       "      <td>Single Family Residential</td>\n",
       "    </tr>\n",
       "    <tr>\n",
       "      <th>10142</th>\n",
       "      <td>13083743</td>\n",
       "      <td>2.0</td>\n",
       "      <td>3.0</td>\n",
       "      <td>1050.0</td>\n",
       "      <td>6037.0</td>\n",
       "      <td>NaN</td>\n",
       "      <td>2.0</td>\n",
       "      <td>NaN</td>\n",
       "      <td>NaN</td>\n",
       "      <td>NaN</td>\n",
       "      <td>...</td>\n",
       "      <td>77118.0</td>\n",
       "      <td>259334.0</td>\n",
       "      <td>182216.0</td>\n",
       "      <td>3345.78</td>\n",
       "      <td>None</td>\n",
       "      <td>NaN</td>\n",
       "      <td>6.037408e+13</td>\n",
       "      <td>-0.197755</td>\n",
       "      <td>2017-05-25</td>\n",
       "      <td>Single Family Residential</td>\n",
       "    </tr>\n",
       "    <tr>\n",
       "      <th>52441</th>\n",
       "      <td>13083743</td>\n",
       "      <td>2.0</td>\n",
       "      <td>3.0</td>\n",
       "      <td>1050.0</td>\n",
       "      <td>6037.0</td>\n",
       "      <td>NaN</td>\n",
       "      <td>2.0</td>\n",
       "      <td>NaN</td>\n",
       "      <td>NaN</td>\n",
       "      <td>NaN</td>\n",
       "      <td>...</td>\n",
       "      <td>77118.0</td>\n",
       "      <td>259334.0</td>\n",
       "      <td>182216.0</td>\n",
       "      <td>3345.78</td>\n",
       "      <td>None</td>\n",
       "      <td>NaN</td>\n",
       "      <td>6.037408e+13</td>\n",
       "      <td>-0.197755</td>\n",
       "      <td>2018-05-25</td>\n",
       "      <td>Single Family Residential</td>\n",
       "    </tr>\n",
       "  </tbody>\n",
       "</table>\n",
       "<p>3 rows × 26 columns</p>\n",
       "</div>"
      ],
      "text/plain": [
       "       parcelid  bathroomcnt  bedroomcnt    sqft  county  fireplacecnt  \\\n",
       "10141  13083743          2.0         3.0  1050.0  6037.0           NaN   \n",
       "10142  13083743          2.0         3.0  1050.0  6037.0           NaN   \n",
       "52441  13083743          2.0         3.0  1050.0  6037.0           NaN   \n",
       "\n",
       "       fullbathcnt  garagecarcnt  garagetotalsqft  hashottuborspa  ...  \\\n",
       "10141          2.0           NaN              NaN             NaN  ...   \n",
       "10142          2.0           NaN              NaN             NaN  ...   \n",
       "52441          2.0           NaN              NaN             NaN  ...   \n",
       "\n",
       "       structuretaxvaluedollarcnt  taxvaluedollarcnt  landtaxvaluedollarcnt  \\\n",
       "10141                     77118.0           259334.0               182216.0   \n",
       "10142                     77118.0           259334.0               182216.0   \n",
       "52441                     77118.0           259334.0               182216.0   \n",
       "\n",
       "       taxamount  taxdelinquencyflag  taxdelinquencyyear  censustractandblock  \\\n",
       "10141    3345.78                None                 NaN         6.037408e+13   \n",
       "10142    3345.78                None                 NaN         6.037408e+13   \n",
       "52441    3345.78                None                 NaN         6.037408e+13   \n",
       "\n",
       "       logerror  transactiondate        propertylandusedesc  \n",
       "10141  0.138146       2017-03-07  Single Family Residential  \n",
       "10142 -0.197755       2017-05-25  Single Family Residential  \n",
       "52441 -0.197755       2018-05-25  Single Family Residential  \n",
       "\n",
       "[3 rows x 26 columns]"
      ]
     },
     "execution_count": 79,
     "metadata": {},
     "output_type": "execute_result"
    }
   ],
   "source": [
    "df[df.parcelid == 13083743]"
   ]
  },
  {
   "cell_type": "code",
   "execution_count": 80,
   "id": "81db97b8",
   "metadata": {},
   "outputs": [],
   "source": [
    "df.transactiondate = pd.to_datetime(df.transactiondate, infer_datetime_format=True) "
   ]
  },
  {
   "cell_type": "code",
   "execution_count": 81,
   "id": "7c659ff7",
   "metadata": {},
   "outputs": [],
   "source": [
    "# remove one transaction where date is in 2018\n",
    "df = df[df.transactiondate < '2018-01-01']"
   ]
  },
  {
   "cell_type": "code",
   "execution_count": null,
   "id": "56d34cbd",
   "metadata": {},
   "outputs": [],
   "source": []
  },
  {
   "cell_type": "code",
   "execution_count": 82,
   "id": "57515416",
   "metadata": {},
   "outputs": [
    {
     "data": {
      "text/plain": [
       "6037.0    33910\n",
       "6059.0    14136\n",
       "6111.0     4395\n",
       "Name: county, dtype: int64"
      ]
     },
     "execution_count": 82,
     "metadata": {},
     "output_type": "execute_result"
    }
   ],
   "source": [
    "# look at fips codes - 3 values corresponding to 3 counties in california\n",
    "df.county.value_counts()"
   ]
  },
  {
   "cell_type": "code",
   "execution_count": 83,
   "id": "9d77fc1c",
   "metadata": {},
   "outputs": [],
   "source": [
    "# convert fips to county\n",
    "df.county = df.county.map({6037 : 'Los Angelos', 6059 : 'Orange', 6111 : 'Ventura'})"
   ]
  },
  {
   "cell_type": "code",
   "execution_count": 84,
   "id": "66d7adda",
   "metadata": {},
   "outputs": [],
   "source": [
    "# convert poolcnt nulls to 0\n",
    "df.poolcnt = df.poolcnt.fillna(0)"
   ]
  },
  {
   "cell_type": "code",
   "execution_count": 85,
   "id": "ef6eab52",
   "metadata": {},
   "outputs": [],
   "source": [
    "# convert fireplace count nulls to 0\n",
    "df.fireplacecnt = df.fireplacecnt.fillna(0)"
   ]
  },
  {
   "cell_type": "code",
   "execution_count": 86,
   "id": "26994319",
   "metadata": {},
   "outputs": [],
   "source": [
    "# garage null values to 0\n",
    "df.garagecarcnt = df.garagecarcnt.fillna(0)\n",
    "df.garagetotalsqft = df.garagetotalsqft.fillna(0)"
   ]
  },
  {
   "cell_type": "code",
   "execution_count": 87,
   "id": "ccfe586d",
   "metadata": {},
   "outputs": [],
   "source": [
    "# hottub/spa nulls to 0\n",
    "df.hashottuborspa = df.hashottuborspa.fillna(0)"
   ]
  },
  {
   "cell_type": "code",
   "execution_count": 88,
   "id": "e035cb03",
   "metadata": {},
   "outputs": [],
   "source": [
    "# has pool nulls to 0\n",
    "df.poolcnt = df.poolcnt.fillna(0)"
   ]
  },
  {
   "cell_type": "code",
   "execution_count": 89,
   "id": "4bb82f7c",
   "metadata": {},
   "outputs": [],
   "source": [
    "# drop rows where unit count is 2 or 3\n",
    "df = df[(df.unitcnt != 2) & (df.unitcnt != 3)]\n",
    "\n",
    "# then drop column\n",
    "df.drop(columns='unitcnt', inplace=True)"
   ]
  },
  {
   "cell_type": "code",
   "execution_count": 94,
   "id": "9d67ac89",
   "metadata": {},
   "outputs": [],
   "source": [
    "# drop rows where tax delinquency exists\n",
    "df = df[df.taxdelinquencyflag != 'Y']\n",
    "\n",
    "# then drop columns\n",
    "df.drop(columns=['taxdelinquencyflag', 'taxdelinquencyyear'], inplace=True)"
   ]
  },
  {
   "cell_type": "code",
   "execution_count": 96,
   "id": "0f599313",
   "metadata": {},
   "outputs": [],
   "source": [
    "df = df.dropna()"
   ]
  },
  {
   "cell_type": "code",
   "execution_count": 97,
   "id": "0e11e9e8",
   "metadata": {},
   "outputs": [
    {
     "data": {
      "text/plain": [
       "(49725, 23)"
      ]
     },
     "execution_count": 97,
     "metadata": {},
     "output_type": "execute_result"
    }
   ],
   "source": [
    "df.shape"
   ]
  },
  {
   "cell_type": "code",
   "execution_count": 102,
   "id": "ba9a87e6",
   "metadata": {},
   "outputs": [
    {
     "data": {
      "text/plain": [
       "345.72      4\n",
       "3415.94     3\n",
       "5220.54     3\n",
       "3509.14     3\n",
       "3406.33     3\n",
       "           ..\n",
       "6053.94     1\n",
       "20267.63    1\n",
       "14552.69    1\n",
       "5701.41     1\n",
       "6317.15     1\n",
       "Name: taxamount, Length: 48272, dtype: int64"
      ]
     },
     "execution_count": 102,
     "metadata": {},
     "output_type": "execute_result"
    }
   ],
   "source": [
    "df.taxamount.value_counts()"
   ]
  },
  {
   "cell_type": "code",
   "execution_count": null,
   "id": "b8a79a86",
   "metadata": {},
   "outputs": [],
   "source": []
  }
 ],
 "metadata": {
  "kernelspec": {
   "display_name": "Python 3 (ipykernel)",
   "language": "python",
   "name": "python3"
  },
  "language_info": {
   "codemirror_mode": {
    "name": "ipython",
    "version": 3
   },
   "file_extension": ".py",
   "mimetype": "text/x-python",
   "name": "python",
   "nbconvert_exporter": "python",
   "pygments_lexer": "ipython3",
   "version": "3.9.12"
  }
 },
 "nbformat": 4,
 "nbformat_minor": 5
}
