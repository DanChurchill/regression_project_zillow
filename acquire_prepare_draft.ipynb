{
 "cells": [
  {
   "cell_type": "code",
   "execution_count": 1,
   "id": "4db924b6",
   "metadata": {},
   "outputs": [],
   "source": [
    "# initial notebook prior to acquire.py and explore.py being created.  Just exploring and familiarizing myself\n",
    "# with the data\n",
    "\n",
    "import pandas as pd\n",
    "import numpy as np\n",
    "import env\n",
    "from datetime import datetime\n",
    "import matplotlib.pyplot as plt\n",
    "import seaborn as sns\n",
    "import acquire\n",
    "import prepare\n",
    "import wrangle\n",
    "import warnings\n",
    "warnings.filterwarnings(\"ignore\")\n"
   ]
  },
  {
   "cell_type": "code",
   "execution_count": 2,
   "id": "8b4baf9d",
   "metadata": {},
   "outputs": [],
   "source": [
    "url = env.get_url(env.user, env.host, env.password, 'zillow')"
   ]
  },
  {
   "cell_type": "code",
   "execution_count": 76,
   "id": "e538c4d6",
   "metadata": {},
   "outputs": [],
   "source": [
    "df = pd.read_sql('''\n",
    "                SELECT parcelid, bathroomcnt, bedroomcnt, calculatedfinishedsquarefeet as sqft, fips as county, fireplacecnt,\n",
    "                       fullbathcnt, garagecarcnt, garagetotalsqft, hashottuborspa, lotsizesquarefeet, poolcnt, rawcensustractandblock,\n",
    "                       roomcnt, unitcnt, yearbuilt, structuretaxvaluedollarcnt, taxvaluedollarcnt, landtaxvaluedollarcnt,\n",
    "                       taxdelinquencyflag, taxdelinquencyyear, logerror, transactiondate, propertylandusedesc\n",
    "                FROM properties_2017\n",
    "                JOIN predictions_2017\n",
    "                USING (parcelid)\n",
    "                JOIN propertylandusetype\n",
    "                USING (propertylandusetypeid)\n",
    "                HAVING propertylandusedesc = 'Single Family Residential'\n",
    "                    ''', url)"
   ]
  },
  {
   "cell_type": "code",
   "execution_count": 4,
   "id": "fd88aa75",
   "metadata": {},
   "outputs": [
    {
     "data": {
      "text/plain": [
       "(52442, 24)"
      ]
     },
     "execution_count": 4,
     "metadata": {},
     "output_type": "execute_result"
    }
   ],
   "source": [
    "df.shape"
   ]
  },
  {
   "cell_type": "code",
   "execution_count": 98,
   "id": "2ef2fbbd",
   "metadata": {},
   "outputs": [
    {
     "name": "stdout",
     "output_type": "stream",
     "text": [
      "<class 'pandas.core.frame.DataFrame'>\n",
      "Int64Index: 49725 entries, 0 to 52440\n",
      "Data columns (total 23 columns):\n",
      " #   Column                      Non-Null Count  Dtype         \n",
      "---  ------                      --------------  -----         \n",
      " 0   parcelid                    49725 non-null  int64         \n",
      " 1   bathroomcnt                 49725 non-null  float64       \n",
      " 2   bedroomcnt                  49725 non-null  float64       \n",
      " 3   sqft                        49725 non-null  float64       \n",
      " 4   county                      49725 non-null  object        \n",
      " 5   fireplacecnt                49725 non-null  float64       \n",
      " 6   fullbathcnt                 49725 non-null  float64       \n",
      " 7   garagecarcnt                49725 non-null  float64       \n",
      " 8   garagetotalsqft             49725 non-null  float64       \n",
      " 9   hashottuborspa              49725 non-null  float64       \n",
      " 10  lotsizesquarefeet           49725 non-null  float64       \n",
      " 11  poolcnt                     49725 non-null  float64       \n",
      " 12  rawcensustractandblock      49725 non-null  float64       \n",
      " 13  roomcnt                     49725 non-null  float64       \n",
      " 14  yearbuilt                   49725 non-null  float64       \n",
      " 15  structuretaxvaluedollarcnt  49725 non-null  float64       \n",
      " 16  taxvaluedollarcnt           49725 non-null  float64       \n",
      " 17  landtaxvaluedollarcnt       49725 non-null  float64       \n",
      " 18  taxamount                   49725 non-null  float64       \n",
      " 19  censustractandblock         49725 non-null  float64       \n",
      " 20  logerror                    49725 non-null  float64       \n",
      " 21  transactiondate             49725 non-null  datetime64[ns]\n",
      " 22  propertylandusedesc         49725 non-null  object        \n",
      "dtypes: datetime64[ns](1), float64(19), int64(1), object(2)\n",
      "memory usage: 9.1+ MB\n"
     ]
    }
   ],
   "source": [
    "df.info()"
   ]
  },
  {
   "cell_type": "code",
   "execution_count": 79,
   "id": "a20ffedc",
   "metadata": {},
   "outputs": [
    {
     "data": {
      "text/html": [
       "<div>\n",
       "<style scoped>\n",
       "    .dataframe tbody tr th:only-of-type {\n",
       "        vertical-align: middle;\n",
       "    }\n",
       "\n",
       "    .dataframe tbody tr th {\n",
       "        vertical-align: top;\n",
       "    }\n",
       "\n",
       "    .dataframe thead th {\n",
       "        text-align: right;\n",
       "    }\n",
       "</style>\n",
       "<table border=\"1\" class=\"dataframe\">\n",
       "  <thead>\n",
       "    <tr style=\"text-align: right;\">\n",
       "      <th></th>\n",
       "      <th>parcelid</th>\n",
       "      <th>bathroomcnt</th>\n",
       "      <th>bedroomcnt</th>\n",
       "      <th>sqft</th>\n",
       "      <th>county</th>\n",
       "      <th>fireplacecnt</th>\n",
       "      <th>fullbathcnt</th>\n",
       "      <th>garagecarcnt</th>\n",
       "      <th>garagetotalsqft</th>\n",
       "      <th>hashottuborspa</th>\n",
       "      <th>...</th>\n",
       "      <th>structuretaxvaluedollarcnt</th>\n",
       "      <th>taxvaluedollarcnt</th>\n",
       "      <th>landtaxvaluedollarcnt</th>\n",
       "      <th>taxamount</th>\n",
       "      <th>taxdelinquencyflag</th>\n",
       "      <th>taxdelinquencyyear</th>\n",
       "      <th>censustractandblock</th>\n",
       "      <th>logerror</th>\n",
       "      <th>transactiondate</th>\n",
       "      <th>propertylandusedesc</th>\n",
       "    </tr>\n",
       "  </thead>\n",
       "  <tbody>\n",
       "    <tr>\n",
       "      <th>10141</th>\n",
       "      <td>13083743</td>\n",
       "      <td>2.0</td>\n",
       "      <td>3.0</td>\n",
       "      <td>1050.0</td>\n",
       "      <td>6037.0</td>\n",
       "      <td>NaN</td>\n",
       "      <td>2.0</td>\n",
       "      <td>NaN</td>\n",
       "      <td>NaN</td>\n",
       "      <td>NaN</td>\n",
       "      <td>...</td>\n",
       "      <td>77118.0</td>\n",
       "      <td>259334.0</td>\n",
       "      <td>182216.0</td>\n",
       "      <td>3345.78</td>\n",
       "      <td>None</td>\n",
       "      <td>NaN</td>\n",
       "      <td>6.037408e+13</td>\n",
       "      <td>0.138146</td>\n",
       "      <td>2017-03-07</td>\n",
       "      <td>Single Family Residential</td>\n",
       "    </tr>\n",
       "    <tr>\n",
       "      <th>10142</th>\n",
       "      <td>13083743</td>\n",
       "      <td>2.0</td>\n",
       "      <td>3.0</td>\n",
       "      <td>1050.0</td>\n",
       "      <td>6037.0</td>\n",
       "      <td>NaN</td>\n",
       "      <td>2.0</td>\n",
       "      <td>NaN</td>\n",
       "      <td>NaN</td>\n",
       "      <td>NaN</td>\n",
       "      <td>...</td>\n",
       "      <td>77118.0</td>\n",
       "      <td>259334.0</td>\n",
       "      <td>182216.0</td>\n",
       "      <td>3345.78</td>\n",
       "      <td>None</td>\n",
       "      <td>NaN</td>\n",
       "      <td>6.037408e+13</td>\n",
       "      <td>-0.197755</td>\n",
       "      <td>2017-05-25</td>\n",
       "      <td>Single Family Residential</td>\n",
       "    </tr>\n",
       "    <tr>\n",
       "      <th>52441</th>\n",
       "      <td>13083743</td>\n",
       "      <td>2.0</td>\n",
       "      <td>3.0</td>\n",
       "      <td>1050.0</td>\n",
       "      <td>6037.0</td>\n",
       "      <td>NaN</td>\n",
       "      <td>2.0</td>\n",
       "      <td>NaN</td>\n",
       "      <td>NaN</td>\n",
       "      <td>NaN</td>\n",
       "      <td>...</td>\n",
       "      <td>77118.0</td>\n",
       "      <td>259334.0</td>\n",
       "      <td>182216.0</td>\n",
       "      <td>3345.78</td>\n",
       "      <td>None</td>\n",
       "      <td>NaN</td>\n",
       "      <td>6.037408e+13</td>\n",
       "      <td>-0.197755</td>\n",
       "      <td>2018-05-25</td>\n",
       "      <td>Single Family Residential</td>\n",
       "    </tr>\n",
       "  </tbody>\n",
       "</table>\n",
       "<p>3 rows × 26 columns</p>\n",
       "</div>"
      ],
      "text/plain": [
       "       parcelid  bathroomcnt  bedroomcnt    sqft  county  fireplacecnt  \\\n",
       "10141  13083743          2.0         3.0  1050.0  6037.0           NaN   \n",
       "10142  13083743          2.0         3.0  1050.0  6037.0           NaN   \n",
       "52441  13083743          2.0         3.0  1050.0  6037.0           NaN   \n",
       "\n",
       "       fullbathcnt  garagecarcnt  garagetotalsqft  hashottuborspa  ...  \\\n",
       "10141          2.0           NaN              NaN             NaN  ...   \n",
       "10142          2.0           NaN              NaN             NaN  ...   \n",
       "52441          2.0           NaN              NaN             NaN  ...   \n",
       "\n",
       "       structuretaxvaluedollarcnt  taxvaluedollarcnt  landtaxvaluedollarcnt  \\\n",
       "10141                     77118.0           259334.0               182216.0   \n",
       "10142                     77118.0           259334.0               182216.0   \n",
       "52441                     77118.0           259334.0               182216.0   \n",
       "\n",
       "       taxamount  taxdelinquencyflag  taxdelinquencyyear  censustractandblock  \\\n",
       "10141    3345.78                None                 NaN         6.037408e+13   \n",
       "10142    3345.78                None                 NaN         6.037408e+13   \n",
       "52441    3345.78                None                 NaN         6.037408e+13   \n",
       "\n",
       "       logerror  transactiondate        propertylandusedesc  \n",
       "10141  0.138146       2017-03-07  Single Family Residential  \n",
       "10142 -0.197755       2017-05-25  Single Family Residential  \n",
       "52441 -0.197755       2018-05-25  Single Family Residential  \n",
       "\n",
       "[3 rows x 26 columns]"
      ]
     },
     "execution_count": 79,
     "metadata": {},
     "output_type": "execute_result"
    }
   ],
   "source": [
    "df[df.parcelid == 13083743]"
   ]
  },
  {
   "cell_type": "code",
   "execution_count": 80,
   "id": "81db97b8",
   "metadata": {},
   "outputs": [],
   "source": [
    "df.transactiondate = pd.to_datetime(df.transactiondate, infer_datetime_format=True) "
   ]
  },
  {
   "cell_type": "code",
   "execution_count": 81,
   "id": "7c659ff7",
   "metadata": {},
   "outputs": [],
   "source": [
    "# remove one transaction where date is in 2018\n",
    "df = df[df.transactiondate < '2018-01-01']"
   ]
  },
  {
   "cell_type": "code",
   "execution_count": null,
   "id": "56d34cbd",
   "metadata": {},
   "outputs": [],
   "source": []
  },
  {
   "cell_type": "code",
   "execution_count": 82,
   "id": "57515416",
   "metadata": {},
   "outputs": [
    {
     "data": {
      "text/plain": [
       "6037.0    33910\n",
       "6059.0    14136\n",
       "6111.0     4395\n",
       "Name: county, dtype: int64"
      ]
     },
     "execution_count": 82,
     "metadata": {},
     "output_type": "execute_result"
    }
   ],
   "source": [
    "# look at fips codes - 3 values corresponding to 3 counties in california\n",
    "df.county.value_counts()"
   ]
  },
  {
   "cell_type": "code",
   "execution_count": 83,
   "id": "9d77fc1c",
   "metadata": {},
   "outputs": [],
   "source": [
    "# convert fips to county\n",
    "df.county = df.county.map({6037 : 'Los Angelos', 6059 : 'Orange', 6111 : 'Ventura'})"
   ]
  },
  {
   "cell_type": "code",
   "execution_count": 84,
   "id": "66d7adda",
   "metadata": {},
   "outputs": [],
   "source": [
    "# convert poolcnt nulls to 0\n",
    "df.poolcnt = df.poolcnt.fillna(0)"
   ]
  },
  {
   "cell_type": "code",
   "execution_count": 85,
   "id": "ef6eab52",
   "metadata": {},
   "outputs": [],
   "source": [
    "# convert fireplace count nulls to 0\n",
    "df.fireplacecnt = df.fireplacecnt.fillna(0)"
   ]
  },
  {
   "cell_type": "code",
   "execution_count": 86,
   "id": "26994319",
   "metadata": {},
   "outputs": [],
   "source": [
    "# garage null values to 0\n",
    "df.garagecarcnt = df.garagecarcnt.fillna(0)\n",
    "df.garagetotalsqft = df.garagetotalsqft.fillna(0)"
   ]
  },
  {
   "cell_type": "code",
   "execution_count": 87,
   "id": "ccfe586d",
   "metadata": {},
   "outputs": [],
   "source": [
    "# hottub/spa nulls to 0\n",
    "df.hashottuborspa = df.hashottuborspa.fillna(0)"
   ]
  },
  {
   "cell_type": "code",
   "execution_count": 88,
   "id": "e035cb03",
   "metadata": {},
   "outputs": [],
   "source": [
    "# has pool nulls to 0\n",
    "df.poolcnt = df.poolcnt.fillna(0)"
   ]
  },
  {
   "cell_type": "code",
   "execution_count": 89,
   "id": "4bb82f7c",
   "metadata": {},
   "outputs": [],
   "source": [
    "# drop rows where unit count is 2 or 3\n",
    "df = df[(df.unitcnt != 2) & (df.unitcnt != 3)]\n",
    "\n",
    "# then drop column\n",
    "df.drop(columns='unitcnt', inplace=True)"
   ]
  },
  {
   "cell_type": "code",
   "execution_count": 94,
   "id": "9d67ac89",
   "metadata": {},
   "outputs": [],
   "source": [
    "# drop rows where tax delinquency exists\n",
    "df = df[df.taxdelinquencyflag != 'Y']\n",
    "\n",
    "# then drop columns\n",
    "df.drop(columns=['taxdelinquencyflag', 'taxdelinquencyyear'], inplace=True)"
   ]
  },
  {
   "cell_type": "code",
   "execution_count": 96,
   "id": "0f599313",
   "metadata": {},
   "outputs": [],
   "source": [
    "df = df.dropna()"
   ]
  },
  {
   "cell_type": "code",
   "execution_count": 97,
   "id": "0e11e9e8",
   "metadata": {},
   "outputs": [
    {
     "data": {
      "text/plain": [
       "(49725, 23)"
      ]
     },
     "execution_count": 97,
     "metadata": {},
     "output_type": "execute_result"
    }
   ],
   "source": [
    "df.shape"
   ]
  },
  {
   "cell_type": "code",
   "execution_count": 102,
   "id": "ba9a87e6",
   "metadata": {},
   "outputs": [
    {
     "data": {
      "text/plain": [
       "345.72      4\n",
       "3415.94     3\n",
       "5220.54     3\n",
       "3509.14     3\n",
       "3406.33     3\n",
       "           ..\n",
       "6053.94     1\n",
       "20267.63    1\n",
       "14552.69    1\n",
       "5701.41     1\n",
       "6317.15     1\n",
       "Name: taxamount, Length: 48272, dtype: int64"
      ]
     },
     "execution_count": 102,
     "metadata": {},
     "output_type": "execute_result"
    }
   ],
   "source": [
    "df.taxamount.value_counts()"
   ]
  },
  {
   "cell_type": "code",
   "execution_count": 5,
   "id": "b8a79a86",
   "metadata": {},
   "outputs": [],
   "source": [
    "import acquire\n",
    "import prepare"
   ]
  },
  {
   "cell_type": "code",
   "execution_count": 4,
   "id": "96c36233",
   "metadata": {},
   "outputs": [],
   "source": [
    "df = acquire.get_zillow()"
   ]
  },
  {
   "cell_type": "code",
   "execution_count": 3,
   "id": "84d8ba5b",
   "metadata": {},
   "outputs": [
    {
     "data": {
      "text/html": [
       "<div>\n",
       "<style scoped>\n",
       "    .dataframe tbody tr th:only-of-type {\n",
       "        vertical-align: middle;\n",
       "    }\n",
       "\n",
       "    .dataframe tbody tr th {\n",
       "        vertical-align: top;\n",
       "    }\n",
       "\n",
       "    .dataframe thead th {\n",
       "        text-align: right;\n",
       "    }\n",
       "</style>\n",
       "<table border=\"1\" class=\"dataframe\">\n",
       "  <thead>\n",
       "    <tr style=\"text-align: right;\">\n",
       "      <th></th>\n",
       "      <th>parcelid</th>\n",
       "      <th>bathroomcnt</th>\n",
       "      <th>bedroomcnt</th>\n",
       "      <th>sqft</th>\n",
       "      <th>county</th>\n",
       "      <th>fireplacecnt</th>\n",
       "      <th>fullbathcnt</th>\n",
       "      <th>garagecarcnt</th>\n",
       "      <th>garagetotalsqft</th>\n",
       "      <th>hashottuborspa</th>\n",
       "      <th>...</th>\n",
       "      <th>unitcnt</th>\n",
       "      <th>yearbuilt</th>\n",
       "      <th>structuretaxvaluedollarcnt</th>\n",
       "      <th>taxvaluedollarcnt</th>\n",
       "      <th>landtaxvaluedollarcnt</th>\n",
       "      <th>taxdelinquencyflag</th>\n",
       "      <th>taxdelinquencyyear</th>\n",
       "      <th>logerror</th>\n",
       "      <th>transactiondate</th>\n",
       "      <th>propertylandusedesc</th>\n",
       "    </tr>\n",
       "  </thead>\n",
       "  <tbody>\n",
       "    <tr>\n",
       "      <th>0</th>\n",
       "      <td>14297519</td>\n",
       "      <td>3.5</td>\n",
       "      <td>4.0</td>\n",
       "      <td>3100.0</td>\n",
       "      <td>6059.0</td>\n",
       "      <td>NaN</td>\n",
       "      <td>3.0</td>\n",
       "      <td>2.0</td>\n",
       "      <td>633.0</td>\n",
       "      <td>NaN</td>\n",
       "      <td>...</td>\n",
       "      <td>NaN</td>\n",
       "      <td>1998.0</td>\n",
       "      <td>485713.0</td>\n",
       "      <td>1023282.0</td>\n",
       "      <td>537569.0</td>\n",
       "      <td>None</td>\n",
       "      <td>NaN</td>\n",
       "      <td>0.025595</td>\n",
       "      <td>2017-01-01</td>\n",
       "      <td>Single Family Residential</td>\n",
       "    </tr>\n",
       "    <tr>\n",
       "      <th>1</th>\n",
       "      <td>17052889</td>\n",
       "      <td>1.0</td>\n",
       "      <td>2.0</td>\n",
       "      <td>1465.0</td>\n",
       "      <td>6111.0</td>\n",
       "      <td>1.0</td>\n",
       "      <td>1.0</td>\n",
       "      <td>1.0</td>\n",
       "      <td>0.0</td>\n",
       "      <td>NaN</td>\n",
       "      <td>...</td>\n",
       "      <td>NaN</td>\n",
       "      <td>1967.0</td>\n",
       "      <td>88000.0</td>\n",
       "      <td>464000.0</td>\n",
       "      <td>376000.0</td>\n",
       "      <td>None</td>\n",
       "      <td>NaN</td>\n",
       "      <td>0.055619</td>\n",
       "      <td>2017-01-01</td>\n",
       "      <td>Single Family Residential</td>\n",
       "    </tr>\n",
       "    <tr>\n",
       "      <th>2</th>\n",
       "      <td>14186244</td>\n",
       "      <td>2.0</td>\n",
       "      <td>3.0</td>\n",
       "      <td>1243.0</td>\n",
       "      <td>6059.0</td>\n",
       "      <td>NaN</td>\n",
       "      <td>2.0</td>\n",
       "      <td>2.0</td>\n",
       "      <td>440.0</td>\n",
       "      <td>NaN</td>\n",
       "      <td>...</td>\n",
       "      <td>NaN</td>\n",
       "      <td>1962.0</td>\n",
       "      <td>85289.0</td>\n",
       "      <td>564778.0</td>\n",
       "      <td>479489.0</td>\n",
       "      <td>None</td>\n",
       "      <td>NaN</td>\n",
       "      <td>0.005383</td>\n",
       "      <td>2017-01-01</td>\n",
       "      <td>Single Family Residential</td>\n",
       "    </tr>\n",
       "    <tr>\n",
       "      <th>3</th>\n",
       "      <td>12177905</td>\n",
       "      <td>3.0</td>\n",
       "      <td>4.0</td>\n",
       "      <td>2376.0</td>\n",
       "      <td>6037.0</td>\n",
       "      <td>NaN</td>\n",
       "      <td>3.0</td>\n",
       "      <td>NaN</td>\n",
       "      <td>NaN</td>\n",
       "      <td>NaN</td>\n",
       "      <td>...</td>\n",
       "      <td>1.0</td>\n",
       "      <td>1970.0</td>\n",
       "      <td>108918.0</td>\n",
       "      <td>145143.0</td>\n",
       "      <td>36225.0</td>\n",
       "      <td>None</td>\n",
       "      <td>NaN</td>\n",
       "      <td>-0.103410</td>\n",
       "      <td>2017-01-01</td>\n",
       "      <td>Single Family Residential</td>\n",
       "    </tr>\n",
       "    <tr>\n",
       "      <th>4</th>\n",
       "      <td>12095076</td>\n",
       "      <td>3.0</td>\n",
       "      <td>4.0</td>\n",
       "      <td>2962.0</td>\n",
       "      <td>6037.0</td>\n",
       "      <td>NaN</td>\n",
       "      <td>3.0</td>\n",
       "      <td>NaN</td>\n",
       "      <td>NaN</td>\n",
       "      <td>NaN</td>\n",
       "      <td>...</td>\n",
       "      <td>1.0</td>\n",
       "      <td>1950.0</td>\n",
       "      <td>276684.0</td>\n",
       "      <td>773303.0</td>\n",
       "      <td>496619.0</td>\n",
       "      <td>None</td>\n",
       "      <td>NaN</td>\n",
       "      <td>-0.001011</td>\n",
       "      <td>2017-01-01</td>\n",
       "      <td>Single Family Residential</td>\n",
       "    </tr>\n",
       "  </tbody>\n",
       "</table>\n",
       "<p>5 rows × 24 columns</p>\n",
       "</div>"
      ],
      "text/plain": [
       "   parcelid  bathroomcnt  bedroomcnt    sqft  county  fireplacecnt  \\\n",
       "0  14297519          3.5         4.0  3100.0  6059.0           NaN   \n",
       "1  17052889          1.0         2.0  1465.0  6111.0           1.0   \n",
       "2  14186244          2.0         3.0  1243.0  6059.0           NaN   \n",
       "3  12177905          3.0         4.0  2376.0  6037.0           NaN   \n",
       "4  12095076          3.0         4.0  2962.0  6037.0           NaN   \n",
       "\n",
       "   fullbathcnt  garagecarcnt  garagetotalsqft  hashottuborspa  ...  unitcnt  \\\n",
       "0          3.0           2.0            633.0             NaN  ...      NaN   \n",
       "1          1.0           1.0              0.0             NaN  ...      NaN   \n",
       "2          2.0           2.0            440.0             NaN  ...      NaN   \n",
       "3          3.0           NaN              NaN             NaN  ...      1.0   \n",
       "4          3.0           NaN              NaN             NaN  ...      1.0   \n",
       "\n",
       "   yearbuilt  structuretaxvaluedollarcnt  taxvaluedollarcnt  \\\n",
       "0     1998.0                    485713.0          1023282.0   \n",
       "1     1967.0                     88000.0           464000.0   \n",
       "2     1962.0                     85289.0           564778.0   \n",
       "3     1970.0                    108918.0           145143.0   \n",
       "4     1950.0                    276684.0           773303.0   \n",
       "\n",
       "   landtaxvaluedollarcnt  taxdelinquencyflag  taxdelinquencyyear  logerror  \\\n",
       "0               537569.0                None                 NaN  0.025595   \n",
       "1               376000.0                None                 NaN  0.055619   \n",
       "2               479489.0                None                 NaN  0.005383   \n",
       "3                36225.0                None                 NaN -0.103410   \n",
       "4               496619.0                None                 NaN -0.001011   \n",
       "\n",
       "   transactiondate        propertylandusedesc  \n",
       "0       2017-01-01  Single Family Residential  \n",
       "1       2017-01-01  Single Family Residential  \n",
       "2       2017-01-01  Single Family Residential  \n",
       "3       2017-01-01  Single Family Residential  \n",
       "4       2017-01-01  Single Family Residential  \n",
       "\n",
       "[5 rows x 24 columns]"
      ]
     },
     "execution_count": 3,
     "metadata": {},
     "output_type": "execute_result"
    }
   ],
   "source": [
    "df.head()"
   ]
  },
  {
   "cell_type": "code",
   "execution_count": 4,
   "id": "b99ba9b5",
   "metadata": {},
   "outputs": [],
   "source": [
    "df = prepare.prep_zillow(df)"
   ]
  },
  {
   "cell_type": "code",
   "execution_count": 5,
   "id": "9dd9a0f6",
   "metadata": {},
   "outputs": [
    {
     "name": "stdout",
     "output_type": "stream",
     "text": [
      "<class 'pandas.core.frame.DataFrame'>\n",
      "Int64Index: 49779 entries, 0 to 52440\n",
      "Data columns (total 21 columns):\n",
      " #   Column                      Non-Null Count  Dtype         \n",
      "---  ------                      --------------  -----         \n",
      " 0   parcelid                    49779 non-null  int64         \n",
      " 1   bathroomcnt                 49779 non-null  float64       \n",
      " 2   bedroomcnt                  49779 non-null  float64       \n",
      " 3   sqft                        49779 non-null  float64       \n",
      " 4   county                      49779 non-null  float64       \n",
      " 5   fireplacecnt                49779 non-null  float64       \n",
      " 6   fullbathcnt                 49779 non-null  float64       \n",
      " 7   garagecarcnt                49779 non-null  float64       \n",
      " 8   garagetotalsqft             49779 non-null  float64       \n",
      " 9   hashottuborspa              49779 non-null  float64       \n",
      " 10  lotsizesquarefeet           49779 non-null  float64       \n",
      " 11  poolcnt                     49779 non-null  float64       \n",
      " 12  rawcensustractandblock      49779 non-null  float64       \n",
      " 13  roomcnt                     49779 non-null  float64       \n",
      " 14  yearbuilt                   49779 non-null  float64       \n",
      " 15  structuretaxvaluedollarcnt  49779 non-null  float64       \n",
      " 16  taxvaluedollarcnt           49779 non-null  float64       \n",
      " 17  landtaxvaluedollarcnt       49779 non-null  float64       \n",
      " 18  logerror                    49779 non-null  float64       \n",
      " 19  transactiondate             49779 non-null  datetime64[ns]\n",
      " 20  propertylandusedesc         49779 non-null  object        \n",
      "dtypes: datetime64[ns](1), float64(18), int64(1), object(1)\n",
      "memory usage: 8.4+ MB\n"
     ]
    }
   ],
   "source": [
    "df.info()"
   ]
  },
  {
   "cell_type": "markdown",
   "id": "512057a6",
   "metadata": {},
   "source": [
    "# acquire and prepare now combined in wrangle.py"
   ]
  },
  {
   "cell_type": "code",
   "execution_count": 1,
   "id": "7565f03b",
   "metadata": {},
   "outputs": [],
   "source": [
    "\n",
    "import pandas as pd\n",
    "import numpy as np\n",
    "import env\n",
    "from datetime import datetime\n",
    "import matplotlib.pyplot as plt\n",
    "import seaborn as sns\n",
    "import acquire\n",
    "import prepare\n",
    "import wrangle\n",
    "import warnings\n",
    "warnings.filterwarnings(\"ignore\")\n",
    "\n",
    "\n",
    "import wrangle\n",
    "df = wrangle.get_zillow()\n",
    "df = wrangle.prep_zillow(df)\n",
    "col_list = ['bathroomcnt', 'bedroomcnt', 'sqft', 'lotsizesquarefeet', 'yearbuilt', 'tax_value']\n",
    "df = wrangle.remove_outliers(df, 1.5, col_list)"
   ]
  },
  {
   "cell_type": "code",
   "execution_count": 2,
   "id": "3e1f070c",
   "metadata": {},
   "outputs": [
    {
     "data": {
      "text/plain": [
       "(44638, 14)"
      ]
     },
     "execution_count": 2,
     "metadata": {},
     "output_type": "execute_result"
    }
   ],
   "source": [
    "df.shape"
   ]
  },
  {
   "cell_type": "code",
   "execution_count": null,
   "id": "0069e9b1",
   "metadata": {},
   "outputs": [],
   "source": []
  },
  {
   "cell_type": "code",
   "execution_count": 5,
   "id": "9b1d7210",
   "metadata": {},
   "outputs": [
    {
     "data": {
      "text/html": [
       "<div>\n",
       "<style scoped>\n",
       "    .dataframe tbody tr th:only-of-type {\n",
       "        vertical-align: middle;\n",
       "    }\n",
       "\n",
       "    .dataframe tbody tr th {\n",
       "        vertical-align: top;\n",
       "    }\n",
       "\n",
       "    .dataframe thead th {\n",
       "        text-align: right;\n",
       "    }\n",
       "</style>\n",
       "<table border=\"1\" class=\"dataframe\">\n",
       "  <thead>\n",
       "    <tr style=\"text-align: right;\">\n",
       "      <th></th>\n",
       "      <th>0</th>\n",
       "      <th>1</th>\n",
       "      <th>2</th>\n",
       "      <th>3</th>\n",
       "      <th>5</th>\n",
       "    </tr>\n",
       "  </thead>\n",
       "  <tbody>\n",
       "    <tr>\n",
       "      <th>parcelid</th>\n",
       "      <td>14297519</td>\n",
       "      <td>17052889</td>\n",
       "      <td>14186244</td>\n",
       "      <td>12177905</td>\n",
       "      <td>12069064</td>\n",
       "    </tr>\n",
       "    <tr>\n",
       "      <th>bathroomcnt</th>\n",
       "      <td>3.5</td>\n",
       "      <td>1.0</td>\n",
       "      <td>2.0</td>\n",
       "      <td>3.0</td>\n",
       "      <td>1.0</td>\n",
       "    </tr>\n",
       "    <tr>\n",
       "      <th>bedroomcnt</th>\n",
       "      <td>4.0</td>\n",
       "      <td>2.0</td>\n",
       "      <td>3.0</td>\n",
       "      <td>4.0</td>\n",
       "      <td>2.0</td>\n",
       "    </tr>\n",
       "    <tr>\n",
       "      <th>sqft</th>\n",
       "      <td>3100.0</td>\n",
       "      <td>1465.0</td>\n",
       "      <td>1243.0</td>\n",
       "      <td>2376.0</td>\n",
       "      <td>738.0</td>\n",
       "    </tr>\n",
       "    <tr>\n",
       "      <th>county</th>\n",
       "      <td>Orange</td>\n",
       "      <td>Ventura</td>\n",
       "      <td>Orange</td>\n",
       "      <td>Los Angelos</td>\n",
       "      <td>Los Angelos</td>\n",
       "    </tr>\n",
       "    <tr>\n",
       "      <th>fireplacecnt</th>\n",
       "      <td>0.0</td>\n",
       "      <td>1.0</td>\n",
       "      <td>0.0</td>\n",
       "      <td>0.0</td>\n",
       "      <td>0.0</td>\n",
       "    </tr>\n",
       "    <tr>\n",
       "      <th>garagecarcnt</th>\n",
       "      <td>2.0</td>\n",
       "      <td>1.0</td>\n",
       "      <td>2.0</td>\n",
       "      <td>0.0</td>\n",
       "      <td>0.0</td>\n",
       "    </tr>\n",
       "    <tr>\n",
       "      <th>hashottuborspa</th>\n",
       "      <td>0.0</td>\n",
       "      <td>0.0</td>\n",
       "      <td>0.0</td>\n",
       "      <td>0.0</td>\n",
       "      <td>0.0</td>\n",
       "    </tr>\n",
       "    <tr>\n",
       "      <th>lotsizesquarefeet</th>\n",
       "      <td>4506.0</td>\n",
       "      <td>12647.0</td>\n",
       "      <td>8432.0</td>\n",
       "      <td>13038.0</td>\n",
       "      <td>4214.0</td>\n",
       "    </tr>\n",
       "    <tr>\n",
       "      <th>yearbuilt</th>\n",
       "      <td>1998.0</td>\n",
       "      <td>1967.0</td>\n",
       "      <td>1962.0</td>\n",
       "      <td>1970.0</td>\n",
       "      <td>1922.0</td>\n",
       "    </tr>\n",
       "    <tr>\n",
       "      <th>poolcnt</th>\n",
       "      <td>0.0</td>\n",
       "      <td>0.0</td>\n",
       "      <td>1.0</td>\n",
       "      <td>1.0</td>\n",
       "      <td>0.0</td>\n",
       "    </tr>\n",
       "    <tr>\n",
       "      <th>logerror</th>\n",
       "      <td>0.025595</td>\n",
       "      <td>0.055619</td>\n",
       "      <td>0.005383</td>\n",
       "      <td>-0.10341</td>\n",
       "      <td>0.101723</td>\n",
       "    </tr>\n",
       "    <tr>\n",
       "      <th>tract</th>\n",
       "      <td>630</td>\n",
       "      <td>10</td>\n",
       "      <td>218</td>\n",
       "      <td>3001</td>\n",
       "      <td>3020</td>\n",
       "    </tr>\n",
       "    <tr>\n",
       "      <th>tax_value</th>\n",
       "      <td>1023282.0</td>\n",
       "      <td>464000.0</td>\n",
       "      <td>564778.0</td>\n",
       "      <td>145143.0</td>\n",
       "      <td>218552.0</td>\n",
       "    </tr>\n",
       "  </tbody>\n",
       "</table>\n",
       "</div>"
      ],
      "text/plain": [
       "                           0         1         2            3            5\n",
       "parcelid            14297519  17052889  14186244     12177905     12069064\n",
       "bathroomcnt              3.5       1.0       2.0          3.0          1.0\n",
       "bedroomcnt               4.0       2.0       3.0          4.0          2.0\n",
       "sqft                  3100.0    1465.0    1243.0       2376.0        738.0\n",
       "county                Orange   Ventura    Orange  Los Angelos  Los Angelos\n",
       "fireplacecnt             0.0       1.0       0.0          0.0          0.0\n",
       "garagecarcnt             2.0       1.0       2.0          0.0          0.0\n",
       "hashottuborspa           0.0       0.0       0.0          0.0          0.0\n",
       "lotsizesquarefeet     4506.0   12647.0    8432.0      13038.0       4214.0\n",
       "yearbuilt             1998.0    1967.0    1962.0       1970.0       1922.0\n",
       "poolcnt                  0.0       0.0       1.0          1.0          0.0\n",
       "logerror            0.025595  0.055619  0.005383     -0.10341     0.101723\n",
       "tract                    630        10       218         3001         3020\n",
       "tax_value          1023282.0  464000.0  564778.0     145143.0     218552.0"
      ]
     },
     "execution_count": 5,
     "metadata": {},
     "output_type": "execute_result"
    }
   ],
   "source": [
    "df.head().T"
   ]
  },
  {
   "cell_type": "code",
   "execution_count": 5,
   "id": "4827321c",
   "metadata": {},
   "outputs": [],
   "source": [
    "train, validate, test = wrangle.my_split(df)"
   ]
  },
  {
   "cell_type": "markdown",
   "id": "4843712f",
   "metadata": {},
   "source": []
  },
  {
   "cell_type": "code",
   "execution_count": null,
   "id": "aa37bc71",
   "metadata": {
    "scrolled": false
   },
   "outputs": [],
   "source": []
  },
  {
   "cell_type": "code",
   "execution_count": null,
   "id": "2d379a79",
   "metadata": {},
   "outputs": [],
   "source": []
  }
 ],
 "metadata": {
  "kernelspec": {
   "display_name": "Python 3 (ipykernel)",
   "language": "python",
   "name": "python3"
  },
  "language_info": {
   "codemirror_mode": {
    "name": "ipython",
    "version": 3
   },
   "file_extension": ".py",
   "mimetype": "text/x-python",
   "name": "python",
   "nbconvert_exporter": "python",
   "pygments_lexer": "ipython3",
   "version": "3.9.12"
  }
 },
 "nbformat": 4,
 "nbformat_minor": 5
}
