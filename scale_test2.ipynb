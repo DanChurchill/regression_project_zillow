{
 "cells": [
  {
   "cell_type": "code",
   "execution_count": 1,
   "id": "016d17f4",
   "metadata": {},
   "outputs": [],
   "source": [
    "import wrangle\n",
    "import pandas as pd\n",
    "import numpy as np\n",
    "import modeling\n",
    "import explore\n",
    "import prepare\n",
    "\n",
    "import warnings\n",
    "warnings.filterwarnings(\"ignore\")\n",
    "from sklearn.feature_selection import SelectKBest, f_regression, RFE\n",
    "\n",
    "from sklearn.preprocessing import MinMaxScaler, QuantileTransformer, StandardScaler, RobustScaler\n",
    "from sklearn.metrics import mean_squared_error\n",
    "from sklearn.linear_model import LinearRegression, LassoLars, TweedieRegressor\n",
    "from sklearn.preprocessing import PolynomialFeatures\n",
    "\n",
    "from sklearn.feature_selection import SelectKBest, RFE, f_regression, SequentialFeatureSelector\n",
    "from sklearn.metrics import explained_variance_score\n",
    "\n",
    "import matplotlib.pyplot as plt"
   ]
  },
  {
   "cell_type": "code",
   "execution_count": 2,
   "id": "831e1a81",
   "metadata": {},
   "outputs": [],
   "source": [
    "train, validate, test = wrangle.wrangle_zillow()"
   ]
  },
  {
   "cell_type": "code",
   "execution_count": 3,
   "id": "f792e476",
   "metadata": {},
   "outputs": [
    {
     "data": {
      "text/plain": [
       "((25908, 20), (8637, 20), (8637, 20))"
      ]
     },
     "execution_count": 3,
     "metadata": {},
     "output_type": "execute_result"
    }
   ],
   "source": [
    "train.shape, validate.shape, test.shape"
   ]
  },
  {
   "cell_type": "code",
   "execution_count": 4,
   "id": "00f2fe57",
   "metadata": {},
   "outputs": [
    {
     "data": {
      "text/plain": [
       "50660    4300\n",
       "14557    5508\n",
       "47007     758\n",
       "26586      66\n",
       "50383     423\n",
       "         ... \n",
       "637        76\n",
       "37673     759\n",
       "32816     996\n",
       "23077    1375\n",
       "34188     994\n",
       "Name: tract, Length: 25908, dtype: int64"
      ]
     },
     "execution_count": 4,
     "metadata": {},
     "output_type": "execute_result"
    }
   ],
   "source": [
    "train.tract"
   ]
  },
  {
   "cell_type": "code",
   "execution_count": 5,
   "id": "cfdc74db",
   "metadata": {},
   "outputs": [
    {
     "data": {
      "text/html": [
       "<div>\n",
       "<style scoped>\n",
       "    .dataframe tbody tr th:only-of-type {\n",
       "        vertical-align: middle;\n",
       "    }\n",
       "\n",
       "    .dataframe tbody tr th {\n",
       "        vertical-align: top;\n",
       "    }\n",
       "\n",
       "    .dataframe thead th {\n",
       "        text-align: right;\n",
       "    }\n",
       "</style>\n",
       "<table border=\"1\" class=\"dataframe\">\n",
       "  <thead>\n",
       "    <tr style=\"text-align: right;\">\n",
       "      <th></th>\n",
       "      <th>count</th>\n",
       "      <th>mean</th>\n",
       "      <th>std</th>\n",
       "      <th>min</th>\n",
       "      <th>25%</th>\n",
       "      <th>50%</th>\n",
       "      <th>75%</th>\n",
       "      <th>max</th>\n",
       "    </tr>\n",
       "  </thead>\n",
       "  <tbody>\n",
       "    <tr>\n",
       "      <th>parcelid</th>\n",
       "      <td>25908</td>\n",
       "      <td>13007162</td>\n",
       "      <td>2586803</td>\n",
       "      <td>10711855</td>\n",
       "      <td>11503757</td>\n",
       "      <td>12653312</td>\n",
       "      <td>14128263</td>\n",
       "      <td>162960814</td>\n",
       "    </tr>\n",
       "    <tr>\n",
       "      <th>bathrooms</th>\n",
       "      <td>25908</td>\n",
       "      <td>2</td>\n",
       "      <td>0</td>\n",
       "      <td>0</td>\n",
       "      <td>2</td>\n",
       "      <td>2</td>\n",
       "      <td>2</td>\n",
       "      <td>5</td>\n",
       "    </tr>\n",
       "    <tr>\n",
       "      <th>bedrooms</th>\n",
       "      <td>25908</td>\n",
       "      <td>3</td>\n",
       "      <td>0</td>\n",
       "      <td>0</td>\n",
       "      <td>3</td>\n",
       "      <td>3</td>\n",
       "      <td>4</td>\n",
       "      <td>6</td>\n",
       "    </tr>\n",
       "    <tr>\n",
       "      <th>sqft</th>\n",
       "      <td>25908</td>\n",
       "      <td>1722</td>\n",
       "      <td>666</td>\n",
       "      <td>128</td>\n",
       "      <td>1240</td>\n",
       "      <td>1573</td>\n",
       "      <td>2073</td>\n",
       "      <td>5256</td>\n",
       "    </tr>\n",
       "    <tr>\n",
       "      <th>fireplacecnt</th>\n",
       "      <td>25908</td>\n",
       "      <td>0</td>\n",
       "      <td>0</td>\n",
       "      <td>0</td>\n",
       "      <td>0</td>\n",
       "      <td>0</td>\n",
       "      <td>0</td>\n",
       "      <td>4</td>\n",
       "    </tr>\n",
       "    <tr>\n",
       "      <th>garagecarcnt</th>\n",
       "      <td>25908</td>\n",
       "      <td>0</td>\n",
       "      <td>0</td>\n",
       "      <td>0</td>\n",
       "      <td>0</td>\n",
       "      <td>0</td>\n",
       "      <td>2</td>\n",
       "      <td>9</td>\n",
       "    </tr>\n",
       "    <tr>\n",
       "      <th>lotsize</th>\n",
       "      <td>25908</td>\n",
       "      <td>7160</td>\n",
       "      <td>3127</td>\n",
       "      <td>236</td>\n",
       "      <td>5457</td>\n",
       "      <td>6624</td>\n",
       "      <td>8039</td>\n",
       "      <td>21663</td>\n",
       "    </tr>\n",
       "    <tr>\n",
       "      <th>poolcnt</th>\n",
       "      <td>25908</td>\n",
       "      <td>0</td>\n",
       "      <td>0</td>\n",
       "      <td>0</td>\n",
       "      <td>0</td>\n",
       "      <td>0</td>\n",
       "      <td>0</td>\n",
       "      <td>1</td>\n",
       "    </tr>\n",
       "    <tr>\n",
       "      <th>lat</th>\n",
       "      <td>25908</td>\n",
       "      <td>34</td>\n",
       "      <td>0</td>\n",
       "      <td>33</td>\n",
       "      <td>33</td>\n",
       "      <td>34</td>\n",
       "      <td>34</td>\n",
       "      <td>34</td>\n",
       "    </tr>\n",
       "    <tr>\n",
       "      <th>long</th>\n",
       "      <td>25908</td>\n",
       "      <td>-118</td>\n",
       "      <td>0</td>\n",
       "      <td>-119</td>\n",
       "      <td>-118</td>\n",
       "      <td>-118</td>\n",
       "      <td>-117</td>\n",
       "      <td>-117</td>\n",
       "    </tr>\n",
       "    <tr>\n",
       "      <th>logerror</th>\n",
       "      <td>25908</td>\n",
       "      <td>0</td>\n",
       "      <td>0</td>\n",
       "      <td>-4</td>\n",
       "      <td>0</td>\n",
       "      <td>0</td>\n",
       "      <td>0</td>\n",
       "      <td>3</td>\n",
       "    </tr>\n",
       "    <tr>\n",
       "      <th>tract</th>\n",
       "      <td>25908</td>\n",
       "      <td>3050</td>\n",
       "      <td>2821</td>\n",
       "      <td>2</td>\n",
       "      <td>746</td>\n",
       "      <td>1955</td>\n",
       "      <td>5300</td>\n",
       "      <td>9800</td>\n",
       "    </tr>\n",
       "    <tr>\n",
       "      <th>tax_value</th>\n",
       "      <td>25908</td>\n",
       "      <td>368653</td>\n",
       "      <td>233119</td>\n",
       "      <td>9242</td>\n",
       "      <td>178197</td>\n",
       "      <td>338000</td>\n",
       "      <td>519971</td>\n",
       "      <td>999937</td>\n",
       "    </tr>\n",
       "    <tr>\n",
       "      <th>Los Angeles</th>\n",
       "      <td>25908</td>\n",
       "      <td>0</td>\n",
       "      <td>0</td>\n",
       "      <td>0</td>\n",
       "      <td>0</td>\n",
       "      <td>1</td>\n",
       "      <td>1</td>\n",
       "      <td>1</td>\n",
       "    </tr>\n",
       "    <tr>\n",
       "      <th>Orange</th>\n",
       "      <td>25908</td>\n",
       "      <td>0</td>\n",
       "      <td>0</td>\n",
       "      <td>0</td>\n",
       "      <td>0</td>\n",
       "      <td>0</td>\n",
       "      <td>1</td>\n",
       "      <td>1</td>\n",
       "    </tr>\n",
       "    <tr>\n",
       "      <th>Ventura</th>\n",
       "      <td>25908</td>\n",
       "      <td>0</td>\n",
       "      <td>0</td>\n",
       "      <td>0</td>\n",
       "      <td>0</td>\n",
       "      <td>0</td>\n",
       "      <td>0</td>\n",
       "      <td>1</td>\n",
       "    </tr>\n",
       "    <tr>\n",
       "      <th>age</th>\n",
       "      <td>25908</td>\n",
       "      <td>59</td>\n",
       "      <td>21</td>\n",
       "      <td>6</td>\n",
       "      <td>45</td>\n",
       "      <td>62</td>\n",
       "      <td>72</td>\n",
       "      <td>137</td>\n",
       "    </tr>\n",
       "    <tr>\n",
       "      <th>4plusBath</th>\n",
       "      <td>25908</td>\n",
       "      <td>0</td>\n",
       "      <td>0</td>\n",
       "      <td>0</td>\n",
       "      <td>0</td>\n",
       "      <td>0</td>\n",
       "      <td>0</td>\n",
       "      <td>1</td>\n",
       "    </tr>\n",
       "    <tr>\n",
       "      <th>3to5garage</th>\n",
       "      <td>25908</td>\n",
       "      <td>0</td>\n",
       "      <td>0</td>\n",
       "      <td>0</td>\n",
       "      <td>0</td>\n",
       "      <td>0</td>\n",
       "      <td>0</td>\n",
       "      <td>1</td>\n",
       "    </tr>\n",
       "  </tbody>\n",
       "</table>\n",
       "</div>"
      ],
      "text/plain": [
       "              count      mean      std       min       25%       50%  \\\n",
       "parcelid      25908  13007162  2586803  10711855  11503757  12653312   \n",
       "bathrooms     25908         2        0         0         2         2   \n",
       "bedrooms      25908         3        0         0         3         3   \n",
       "sqft          25908      1722      666       128      1240      1573   \n",
       "fireplacecnt  25908         0        0         0         0         0   \n",
       "garagecarcnt  25908         0        0         0         0         0   \n",
       "lotsize       25908      7160     3127       236      5457      6624   \n",
       "poolcnt       25908         0        0         0         0         0   \n",
       "lat           25908        34        0        33        33        34   \n",
       "long          25908      -118        0      -119      -118      -118   \n",
       "logerror      25908         0        0        -4         0         0   \n",
       "tract         25908      3050     2821         2       746      1955   \n",
       "tax_value     25908    368653   233119      9242    178197    338000   \n",
       "Los Angeles   25908         0        0         0         0         1   \n",
       "Orange        25908         0        0         0         0         0   \n",
       "Ventura       25908         0        0         0         0         0   \n",
       "age           25908        59       21         6        45        62   \n",
       "4plusBath     25908         0        0         0         0         0   \n",
       "3to5garage    25908         0        0         0         0         0   \n",
       "\n",
       "                   75%        max  \n",
       "parcelid      14128263  162960814  \n",
       "bathrooms            2          5  \n",
       "bedrooms             4          6  \n",
       "sqft              2073       5256  \n",
       "fireplacecnt         0          4  \n",
       "garagecarcnt         2          9  \n",
       "lotsize           8039      21663  \n",
       "poolcnt              0          1  \n",
       "lat                 34         34  \n",
       "long              -117       -117  \n",
       "logerror             0          3  \n",
       "tract             5300       9800  \n",
       "tax_value       519971     999937  \n",
       "Los Angeles          1          1  \n",
       "Orange               1          1  \n",
       "Ventura              0          1  \n",
       "age                 72        137  \n",
       "4plusBath            0          1  \n",
       "3to5garage           0          1  "
      ]
     },
     "execution_count": 5,
     "metadata": {},
     "output_type": "execute_result"
    }
   ],
   "source": [
    "train.describe().astype(int).T"
   ]
  },
  {
   "cell_type": "code",
   "execution_count": null,
   "id": "5c812d5d",
   "metadata": {},
   "outputs": [],
   "source": []
  },
  {
   "cell_type": "code",
   "execution_count": 7,
   "id": "57d34291",
   "metadata": {},
   "outputs": [],
   "source": [
    "features = ['age', 'lat', 'sqft', 'long' , '4plusBath', 'tract', \n",
    "            'poolcnt', '3to5garage', 'Los Angeles', 'bedrooms','Orange']"
   ]
  },
  {
   "cell_type": "code",
   "execution_count": 8,
   "id": "8864e51c",
   "metadata": {},
   "outputs": [],
   "source": [
    "# create X and y\n",
    "X_train = train[features]\n",
    "y_train = train['tax_value']\n",
    "\n",
    "X_validate = validate[features]\n",
    "y_validate = validate['tax_value']"
   ]
  },
  {
   "cell_type": "code",
   "execution_count": 9,
   "id": "98575305",
   "metadata": {},
   "outputs": [],
   "source": [
    "# create MinMaxScaler and fit to train\n",
    "scaler = MinMaxScaler()\n",
    "X_train[features] = scaler.fit_transform(X_train[features])\n",
    "X_validate[features] = scaler.transform(X_validate[features])\n",
    "\n",
    "# make a dataframe\n",
    "y_train = pd.DataFrame(y_train)\n",
    "y_validate = pd.DataFrame(y_validate)\n",
    "\n"
   ]
  },
  {
   "cell_type": "code",
   "execution_count": 10,
   "id": "6ccd60ed",
   "metadata": {},
   "outputs": [
    {
     "name": "stdout",
     "output_type": "stream",
     "text": [
      "RMSE using Mean\n",
      "Train/In-Sample:  233115.06 \n",
      "Validate/Out-of-Sample:  234810.22\n",
      "RMSE using Median\n",
      "Train/In-Sample:  235121.87 \n",
      "Validate/Out-of-Sample:  236574.11\n"
     ]
    }
   ],
   "source": [
    "# 1. Predict value_pred_mean\n",
    "value_pred_mean = y_train['tax_value'].mean()\n",
    "y_train['value_pred_mean'] = value_pred_mean\n",
    "y_validate['value_pred_mean'] = value_pred_mean\n",
    "\n",
    "# 2. compute value_pred_median\n",
    "value_pred_median = y_train['tax_value'].median()\n",
    "y_train['value_pred_median'] = value_pred_median\n",
    "y_validate['value_pred_median'] = value_pred_median\n",
    "\n",
    "# 3. RMSE of value_pred_mean\n",
    "rmse_train = mean_squared_error(y_train.tax_value, y_train.value_pred_mean)**(1/2)\n",
    "rmse_validate = mean_squared_error(y_validate.tax_value, y_validate.value_pred_mean)**(1/2)\n",
    "\n",
    "print(\"RMSE using Mean\\nTrain/In-Sample: \", round(rmse_train, 2), \n",
    "      \"\\nValidate/Out-of-Sample: \", round(rmse_validate, 2))\n",
    "\n",
    "# 4. RMSE of value_pred_median\n",
    "rmse_train = mean_squared_error(y_train.tax_value, y_train.value_pred_median)**(1/2)\n",
    "rmse_validate = mean_squared_error(y_validate.tax_value, y_validate.value_pred_median)**(1/2)\n",
    "\n",
    "print(\"RMSE using Median\\nTrain/In-Sample: \", round(rmse_train, 2), \n",
    "      \"\\nValidate/Out-of-Sample: \", round(rmse_validate, 2))"
   ]
  },
  {
   "cell_type": "code",
   "execution_count": 11,
   "id": "ebd570e4",
   "metadata": {},
   "outputs": [],
   "source": [
    "# # scale y\n",
    "# target_scaler = QuantileTransformer()\n",
    "# y_train.tax_value = target_scaler.fit_transform(y_train[['tax_value']])\n",
    "# y_validate.tax_value = target_scaler.transform(y_validate[['tax_value']])"
   ]
  },
  {
   "cell_type": "code",
   "execution_count": 12,
   "id": "ed945b14",
   "metadata": {},
   "outputs": [
    {
     "name": "stdout",
     "output_type": "stream",
     "text": [
      "RMSE for OLS using LinearRegression\n",
      "Training/In-Sample:  198534.50872653947 \n",
      "Validation/Out-of-Sample:  199033.93261691992\n"
     ]
    }
   ],
   "source": [
    "# create the model object\n",
    "lm = LinearRegression(normalize=True)\n",
    "\n",
    "# fit the model to our training data. We must specify the column in y_train, \n",
    "# since we have converted it to a dataframe from a series! \n",
    "lm.fit(X_train, y_train['tax_value'])\n",
    "\n",
    "# predict train\n",
    "y_train['value_pred_lm'] = lm.predict(X_train)\n",
    "#y_train['value_pred_lm'] = target_scaler.inverse_transform(y_train[['value_pred_lm']])\n",
    "\n",
    "# evaluate: rmse\n",
    "rmse_train = mean_squared_error(y_train.tax_value, y_train.value_pred_lm)**(1/2)\n",
    "\n",
    "# predict validate\n",
    "y_validate['value_pred_lm'] = lm.predict(X_validate)\n",
    "#y_validate['value_pred_lm'] = target_scaler.inverse_transform(y_validate[['value_pred_lm']])\n",
    "\n",
    "# evaluate: rmse\n",
    "rmse_validate = mean_squared_error(y_validate.tax_value, y_validate.value_pred_lm)**(1/2)\n",
    "\n",
    "print(\"RMSE for OLS using LinearRegression\\nTraining/In-Sample: \", rmse_train, \n",
    "      \"\\nValidation/Out-of-Sample: \", rmse_validate)"
   ]
  },
  {
   "cell_type": "code",
   "execution_count": 13,
   "id": "8c0cb28d",
   "metadata": {},
   "outputs": [
    {
     "name": "stdout",
     "output_type": "stream",
     "text": [
      "RMSE for Lasso + Lars\n",
      "Training/In-Sample:  198534.50872653944 \n",
      "Validation/Out-of-Sample:  199033.93261691992\n"
     ]
    }
   ],
   "source": [
    "# create the model object\n",
    "lars = LassoLars(alpha=0)\n",
    "\n",
    "# fit the model to our training data. We must specify the column in y_train, \n",
    "# since we have converted it to a dataframe from a series! \n",
    "lars.fit(X_train, y_train['tax_value'])\n",
    "\n",
    "# predict train\n",
    "y_train['value_pred_llars'] = lars.predict(X_train)\n",
    "#y_train['value_pred_llars'] = target_scaler.inverse_transform(y_train[['value_pred_llars']])\n",
    "\n",
    "# evaluate: rmse\n",
    "rmse_train = mean_squared_error(y_train.tax_value, y_train.value_pred_llars)**(1/2)\n",
    "\n",
    "# predict validate\n",
    "y_validate['value_pred_llars'] = lars.predict(X_validate)\n",
    "#y_validate['value_pred_llars'] = target_scaler.inverse_transform(y_validate[['value_pred_llars']])\n",
    "\n",
    "# evaluate: rmse\n",
    "rmse_validate = mean_squared_error(y_validate.tax_value, y_validate.value_pred_llars)**(1/2)\n",
    "\n",
    "print(\"RMSE for Lasso + Lars\\nTraining/In-Sample: \", rmse_train, \n",
    "      \"\\nValidation/Out-of-Sample: \", rmse_validate)"
   ]
  },
  {
   "cell_type": "code",
   "execution_count": null,
   "id": "f236efc2",
   "metadata": {},
   "outputs": [],
   "source": []
  },
  {
   "cell_type": "code",
   "execution_count": 14,
   "id": "735607f2",
   "metadata": {},
   "outputs": [
    {
     "name": "stdout",
     "output_type": "stream",
     "text": [
      "RMSE for GLM using Tweedie, power=1 & alpha=0\n",
      "Training/In-Sample:  198534.508726578 \n",
      "Validation/Out-of-Sample:  199033.93199449396\n"
     ]
    }
   ],
   "source": [
    "# create the model object\n",
    "glm = TweedieRegressor(power=0, alpha=0) # changed power to 0 since we normalized the target\n",
    "\n",
    "# fit the model to our training data. We must specify the column in y_train, \n",
    "# since we have converted it to a dataframe from a series! \n",
    "glm.fit(X_train, y_train['tax_value'])\n",
    "\n",
    "# predict train\n",
    "y_train['value_pred_glm'] = glm.predict(X_train)\n",
    "#y_train['value_pred_glm'] = target_scaler.inverse_transform(y_train[['value_pred_glm']])\n",
    "\n",
    "# evaluate: rmse\n",
    "rmse_train = mean_squared_error(y_train.tax_value, y_train.value_pred_glm)**(1/2)\n",
    "\n",
    "# predict validate\n",
    "y_validate['value_pred_glm'] = glm.predict(X_validate)\n",
    "#y_validate['value_pred_glm'] = target_scaler.inverse_transform(y_validate[['value_pred_glm']])\n",
    "\n",
    "# evaluate: rmse\n",
    "rmse_validate = mean_squared_error(y_validate.tax_value, y_validate.value_pred_glm)**(1/2)\n",
    "\n",
    "print(\"RMSE for GLM using Tweedie, power=1 & alpha=0\\nTraining/In-Sample: \", rmse_train, \n",
    "      \"\\nValidation/Out-of-Sample: \", rmse_validate)"
   ]
  },
  {
   "cell_type": "markdown",
   "id": "0184a3cc",
   "metadata": {},
   "source": [
    "# Polynomial Regression"
   ]
  },
  {
   "cell_type": "code",
   "execution_count": 15,
   "id": "0f3be880",
   "metadata": {},
   "outputs": [],
   "source": [
    "# create the model object\n",
    "pf = PolynomialFeatures(degree=2)\n",
    "\n",
    "# create the X and y datasets\n",
    "X2_train = train[features]\n",
    "\n",
    "X2_validate = validate[features]\n",
    "\n",
    " "
   ]
  },
  {
   "cell_type": "code",
   "execution_count": 16,
   "id": "cbb74834",
   "metadata": {},
   "outputs": [
    {
     "name": "stdout",
     "output_type": "stream",
     "text": [
      "RMSE for Polynomial Model, degrees=2\n",
      "Training/In-Sample:  198534.50872653947 \n",
      "Validation/Out-of-Sample:  199033.9326169199\n"
     ]
    }
   ],
   "source": [
    "# fit the model to our training data. We must specify the column in y_train, \n",
    "lm2 = LinearRegression(normalize=True)\n",
    "\n",
    "# since we have converted it to a dataframe from a series! \n",
    "lm2.fit(X2_train, y_train.tax_value)\n",
    "\n",
    "# predict train\n",
    "y_train['value_pred_lm2'] = lm2.predict(X2_train)\n",
    "#y_train['value_pred_lm2'] = target_scaler.inverse_transform(y_train[['value_pred_lm2']])\n",
    "\n",
    "# evaluate: rmse\n",
    "rmse_train = mean_squared_error(y_train.tax_value, y_train.value_pred_lm2)**(1/2)\n",
    "\n",
    "# predict validate\n",
    "y_validate['value_pred_lm2'] = lm2.predict(X2_validate)\n",
    "#y_validate['value_pred_lm2'] = target_scaler.inverse_transform(y_validate[['value_pred_lm2']])\n",
    "\n",
    "# evaluate: rmse\n",
    "rmse_validate = mean_squared_error(y_validate.tax_value, y_validate.value_pred_lm2)**(1/2)\n",
    "\n",
    "print(\"RMSE for Polynomial Model, degrees=2\\nTraining/In-Sample: \", rmse_train, \n",
    "      \"\\nValidation/Out-of-Sample: \", rmse_validate)"
   ]
  },
  {
   "cell_type": "code",
   "execution_count": null,
   "id": "5b0b5a6e",
   "metadata": {},
   "outputs": [],
   "source": []
  },
  {
   "cell_type": "code",
   "execution_count": 17,
   "id": "7d3c6f49",
   "metadata": {},
   "outputs": [
    {
     "data": {
      "text/html": [
       "<div>\n",
       "<style scoped>\n",
       "    .dataframe tbody tr th:only-of-type {\n",
       "        vertical-align: middle;\n",
       "    }\n",
       "\n",
       "    .dataframe tbody tr th {\n",
       "        vertical-align: top;\n",
       "    }\n",
       "\n",
       "    .dataframe thead th {\n",
       "        text-align: right;\n",
       "    }\n",
       "</style>\n",
       "<table border=\"1\" class=\"dataframe\">\n",
       "  <thead>\n",
       "    <tr style=\"text-align: right;\">\n",
       "      <th></th>\n",
       "      <th>tax_value</th>\n",
       "      <th>value_pred_mean</th>\n",
       "      <th>value_pred_median</th>\n",
       "      <th>value_pred_lm</th>\n",
       "      <th>value_pred_llars</th>\n",
       "      <th>value_pred_glm</th>\n",
       "      <th>value_pred_lm2</th>\n",
       "    </tr>\n",
       "  </thead>\n",
       "  <tbody>\n",
       "    <tr>\n",
       "      <th>50660</th>\n",
       "      <td>64364.0</td>\n",
       "      <td>368653.892234</td>\n",
       "      <td>338000.0</td>\n",
       "      <td>289625.419558</td>\n",
       "      <td>289625.419558</td>\n",
       "      <td>289625.489749</td>\n",
       "      <td>289625.419558</td>\n",
       "    </tr>\n",
       "    <tr>\n",
       "      <th>14557</th>\n",
       "      <td>81549.0</td>\n",
       "      <td>368653.892234</td>\n",
       "      <td>338000.0</td>\n",
       "      <td>324850.901411</td>\n",
       "      <td>324850.901411</td>\n",
       "      <td>324850.906316</td>\n",
       "      <td>324850.901411</td>\n",
       "    </tr>\n",
       "    <tr>\n",
       "      <th>47007</th>\n",
       "      <td>330190.0</td>\n",
       "      <td>368653.892234</td>\n",
       "      <td>338000.0</td>\n",
       "      <td>444134.292402</td>\n",
       "      <td>444134.292402</td>\n",
       "      <td>444134.279974</td>\n",
       "      <td>444134.292402</td>\n",
       "    </tr>\n",
       "    <tr>\n",
       "      <th>26586</th>\n",
       "      <td>564363.0</td>\n",
       "      <td>368653.892234</td>\n",
       "      <td>338000.0</td>\n",
       "      <td>333247.685002</td>\n",
       "      <td>333247.685002</td>\n",
       "      <td>333247.681371</td>\n",
       "      <td>333247.685002</td>\n",
       "    </tr>\n",
       "    <tr>\n",
       "      <th>50383</th>\n",
       "      <td>330797.0</td>\n",
       "      <td>368653.892234</td>\n",
       "      <td>338000.0</td>\n",
       "      <td>447932.922221</td>\n",
       "      <td>447932.922221</td>\n",
       "      <td>447932.999272</td>\n",
       "      <td>447932.922221</td>\n",
       "    </tr>\n",
       "    <tr>\n",
       "      <th>...</th>\n",
       "      <td>...</td>\n",
       "      <td>...</td>\n",
       "      <td>...</td>\n",
       "      <td>...</td>\n",
       "      <td>...</td>\n",
       "      <td>...</td>\n",
       "      <td>...</td>\n",
       "    </tr>\n",
       "    <tr>\n",
       "      <th>637</th>\n",
       "      <td>315132.0</td>\n",
       "      <td>368653.892234</td>\n",
       "      <td>338000.0</td>\n",
       "      <td>513692.913892</td>\n",
       "      <td>513692.913892</td>\n",
       "      <td>513693.075653</td>\n",
       "      <td>513692.913892</td>\n",
       "    </tr>\n",
       "    <tr>\n",
       "      <th>37673</th>\n",
       "      <td>507625.0</td>\n",
       "      <td>368653.892234</td>\n",
       "      <td>338000.0</td>\n",
       "      <td>372590.573090</td>\n",
       "      <td>372590.573090</td>\n",
       "      <td>372590.557819</td>\n",
       "      <td>372590.573090</td>\n",
       "    </tr>\n",
       "    <tr>\n",
       "      <th>32816</th>\n",
       "      <td>467000.0</td>\n",
       "      <td>368653.892234</td>\n",
       "      <td>338000.0</td>\n",
       "      <td>397960.509842</td>\n",
       "      <td>397960.509842</td>\n",
       "      <td>397960.392362</td>\n",
       "      <td>397960.509842</td>\n",
       "    </tr>\n",
       "    <tr>\n",
       "      <th>23077</th>\n",
       "      <td>380000.0</td>\n",
       "      <td>368653.892234</td>\n",
       "      <td>338000.0</td>\n",
       "      <td>337139.270218</td>\n",
       "      <td>337139.270218</td>\n",
       "      <td>337139.291114</td>\n",
       "      <td>337139.270218</td>\n",
       "    </tr>\n",
       "    <tr>\n",
       "      <th>34188</th>\n",
       "      <td>950000.0</td>\n",
       "      <td>368653.892234</td>\n",
       "      <td>338000.0</td>\n",
       "      <td>558384.130776</td>\n",
       "      <td>558384.130776</td>\n",
       "      <td>558384.058126</td>\n",
       "      <td>558384.130776</td>\n",
       "    </tr>\n",
       "  </tbody>\n",
       "</table>\n",
       "<p>25908 rows × 7 columns</p>\n",
       "</div>"
      ],
      "text/plain": [
       "       tax_value  value_pred_mean  value_pred_median  value_pred_lm  \\\n",
       "50660    64364.0    368653.892234           338000.0  289625.419558   \n",
       "14557    81549.0    368653.892234           338000.0  324850.901411   \n",
       "47007   330190.0    368653.892234           338000.0  444134.292402   \n",
       "26586   564363.0    368653.892234           338000.0  333247.685002   \n",
       "50383   330797.0    368653.892234           338000.0  447932.922221   \n",
       "...          ...              ...                ...            ...   \n",
       "637     315132.0    368653.892234           338000.0  513692.913892   \n",
       "37673   507625.0    368653.892234           338000.0  372590.573090   \n",
       "32816   467000.0    368653.892234           338000.0  397960.509842   \n",
       "23077   380000.0    368653.892234           338000.0  337139.270218   \n",
       "34188   950000.0    368653.892234           338000.0  558384.130776   \n",
       "\n",
       "       value_pred_llars  value_pred_glm  value_pred_lm2  \n",
       "50660     289625.419558   289625.489749   289625.419558  \n",
       "14557     324850.901411   324850.906316   324850.901411  \n",
       "47007     444134.292402   444134.279974   444134.292402  \n",
       "26586     333247.685002   333247.681371   333247.685002  \n",
       "50383     447932.922221   447932.999272   447932.922221  \n",
       "...                 ...             ...             ...  \n",
       "637       513692.913892   513693.075653   513692.913892  \n",
       "37673     372590.573090   372590.557819   372590.573090  \n",
       "32816     397960.509842   397960.392362   397960.509842  \n",
       "23077     337139.270218   337139.291114   337139.270218  \n",
       "34188     558384.130776   558384.058126   558384.130776  \n",
       "\n",
       "[25908 rows x 7 columns]"
      ]
     },
     "execution_count": 17,
     "metadata": {},
     "output_type": "execute_result"
    }
   ],
   "source": [
    "y_train"
   ]
  },
  {
   "cell_type": "code",
   "execution_count": 18,
   "id": "db8a2e77",
   "metadata": {},
   "outputs": [],
   "source": [
    "def zillow_model(model, X_train, y_train, X_val, y_val, features):\n",
    "    \n",
    "    \n",
    "    model.fit(X_train[features], y_train)\n",
    "    \n",
    "    yhat = model.predict(X_train[features])\n",
    "    yhat_val = model.predict(X_val[features])\n",
    "    \n",
    "    rmse = mean_squared_error(y_train, yhat, squared=False)\n",
    "    rmse_val = mean_squared_error(y_val, yhat_val, squared=False)\n",
    "    print(\"RMSE for\",model,\"\\nTraining/In-Sample: \", rmse,\n",
    "          \"\\nValidation/Out-of-Sample: \", rmse_val)\n",
    "    return model, rmse, rmse_val, features\n",
    "      \n"
   ]
  },
  {
   "cell_type": "code",
   "execution_count": 57,
   "id": "7a8d599d",
   "metadata": {},
   "outputs": [],
   "source": [
    "results = pd.DataFrame(columns = ['model', 'RMSE_train', 'RMSE_val', 'features'])"
   ]
  },
  {
   "cell_type": "code",
   "execution_count": 59,
   "id": "cee72ed9",
   "metadata": {},
   "outputs": [
    {
     "data": {
      "text/html": [
       "<div>\n",
       "<style scoped>\n",
       "    .dataframe tbody tr th:only-of-type {\n",
       "        vertical-align: middle;\n",
       "    }\n",
       "\n",
       "    .dataframe tbody tr th {\n",
       "        vertical-align: top;\n",
       "    }\n",
       "\n",
       "    .dataframe thead th {\n",
       "        text-align: right;\n",
       "    }\n",
       "</style>\n",
       "<table border=\"1\" class=\"dataframe\">\n",
       "  <thead>\n",
       "    <tr style=\"text-align: right;\">\n",
       "      <th></th>\n",
       "      <th>model</th>\n",
       "      <th>RMSE_train</th>\n",
       "      <th>RMSE_val</th>\n",
       "      <th>features</th>\n",
       "    </tr>\n",
       "  </thead>\n",
       "  <tbody>\n",
       "  </tbody>\n",
       "</table>\n",
       "</div>"
      ],
      "text/plain": [
       "Empty DataFrame\n",
       "Columns: [model, RMSE_train, RMSE_val, features]\n",
       "Index: []"
      ]
     },
     "execution_count": 59,
     "metadata": {},
     "output_type": "execute_result"
    }
   ],
   "source": [
    "model_list = [LinearRegression(normalize=True), LassoLars(alpha=0), TweedieRegressor(power=0, alpha=0) ]"
   ]
  },
  {
   "cell_type": "code",
   "execution_count": 60,
   "id": "8af2ce2e",
   "metadata": {
    "scrolled": false
   },
   "outputs": [
    {
     "name": "stdout",
     "output_type": "stream",
     "text": [
      "RMSE for LinearRegression(normalize=True) \n",
      "Training/In-Sample:  198534.50872653947 \n",
      "Validation/Out-of-Sample:  199033.93261691995\n"
     ]
    }
   ],
   "source": [
    "zillow_model(LinearRegression(normalize=True), train, train.tax_value, validate, validate.tax_value, features))"
   ]
  },
  {
   "cell_type": "code",
   "execution_count": 61,
   "id": "12ef4ecd",
   "metadata": {},
   "outputs": [],
   "source": [
    "results.loc[len(results)] = newresult"
   ]
  },
  {
   "cell_type": "code",
   "execution_count": 62,
   "id": "9c4b88f3",
   "metadata": {},
   "outputs": [
    {
     "data": {
      "text/html": [
       "<div>\n",
       "<style scoped>\n",
       "    .dataframe tbody tr th:only-of-type {\n",
       "        vertical-align: middle;\n",
       "    }\n",
       "\n",
       "    .dataframe tbody tr th {\n",
       "        vertical-align: top;\n",
       "    }\n",
       "\n",
       "    .dataframe thead th {\n",
       "        text-align: right;\n",
       "    }\n",
       "</style>\n",
       "<table border=\"1\" class=\"dataframe\">\n",
       "  <thead>\n",
       "    <tr style=\"text-align: right;\">\n",
       "      <th></th>\n",
       "      <th>model</th>\n",
       "      <th>RMSE_train</th>\n",
       "      <th>RMSE_val</th>\n",
       "      <th>features</th>\n",
       "    </tr>\n",
       "  </thead>\n",
       "  <tbody>\n",
       "    <tr>\n",
       "      <th>0</th>\n",
       "      <td>LinearRegression(normalize=True)</td>\n",
       "      <td>198534.508727</td>\n",
       "      <td>199033.932617</td>\n",
       "      <td>[age, lat, sqft, long, bedrooms, 4plusBath, tr...</td>\n",
       "    </tr>\n",
       "  </tbody>\n",
       "</table>\n",
       "</div>"
      ],
      "text/plain": [
       "                              model     RMSE_train       RMSE_val  \\\n",
       "0  LinearRegression(normalize=True)  198534.508727  199033.932617   \n",
       "\n",
       "                                            features  \n",
       "0  [age, lat, sqft, long, bedrooms, 4plusBath, tr...  "
      ]
     },
     "execution_count": 62,
     "metadata": {},
     "output_type": "execute_result"
    }
   ],
   "source": [
    "results"
   ]
  },
  {
   "cell_type": "code",
   "execution_count": 109,
   "id": "9e033d07",
   "metadata": {},
   "outputs": [],
   "source": [
    "model_list = [LinearRegression(normalize=False), LassoLars(alpha=0), TweedieRegressor(power=0, alpha=0) ]"
   ]
  },
  {
   "cell_type": "code",
   "execution_count": 110,
   "id": "60962d92",
   "metadata": {},
   "outputs": [
    {
     "name": "stdout",
     "output_type": "stream",
     "text": [
      "RMSE for LinearRegression(normalize=False) \n",
      "Training/In-Sample:  198330.46907100012 \n",
      "Validation/Out-of-Sample:  198704.69124455002\n",
      "RMSE for LassoLars(alpha=0) \n",
      "Training/In-Sample:  198330.46907100012 \n",
      "Validation/Out-of-Sample:  198704.691244551\n",
      "RMSE for TweedieRegressor(alpha=0, power=0) \n",
      "Training/In-Sample:  200334.6817113633 \n",
      "Validation/Out-of-Sample:  200640.60348222996\n"
     ]
    }
   ],
   "source": [
    "for model in model_list:\n",
    "    newresult = zillow_model(model, train, train.tax_value, validate, validate.tax_value, features)\n",
    "    results.loc[len(results)] = newresult"
   ]
  },
  {
   "cell_type": "code",
   "execution_count": 66,
   "id": "aee92e5a",
   "metadata": {},
   "outputs": [
    {
     "data": {
      "text/plain": [
       "Index(['parcelid', 'bathrooms', 'bedrooms', 'sqft', 'county', 'fireplacecnt',\n",
       "       'garagecarcnt', 'lotsize', 'poolcnt', 'lat', 'long', 'logerror',\n",
       "       'tract', 'tax_value', 'Los Angeles', 'Orange', 'Ventura', 'age',\n",
       "       '4plusBath', '3to5garage'],\n",
       "      dtype='object')"
      ]
     },
     "execution_count": 66,
     "metadata": {},
     "output_type": "execute_result"
    }
   ],
   "source": [
    "train.columns"
   ]
  },
  {
   "cell_type": "code",
   "execution_count": 108,
   "id": "cdecac30",
   "metadata": {},
   "outputs": [],
   "source": [
    "features = ['bathrooms',\n",
    "  'bedrooms',\n",
    "  'sqft',\n",
    "  'fireplacecnt',\n",
    "  'garagecarcnt',\n",
    "  'lotsize',\n",
    "  'poolcnt',\n",
    "  'lat',\n",
    "  'long',\n",
    "  'tract',\n",
    "  'Los Angeles',\n",
    "  'Orange',\n",
    "  'age',\n",
    "  '4plusBath',\n",
    "  '3to5garage']"
   ]
  },
  {
   "cell_type": "code",
   "execution_count": 107,
   "id": "2e457e45",
   "metadata": {},
   "outputs": [
    {
     "data": {
      "text/plain": [
       "[['bathrooms',\n",
       "  'bedrooms',\n",
       "  'sqft',\n",
       "  'fireplacecnt',\n",
       "  'garagecarcnt',\n",
       "  'lotsize',\n",
       "  'poolcnt',\n",
       "  'lat',\n",
       "  'long',\n",
       "  'tract',\n",
       "  'Los Angeles',\n",
       "  'Orange',\n",
       "  'age',\n",
       "  '4plusBath',\n",
       "  '3to5garage']]"
      ]
     },
     "execution_count": 107,
     "metadata": {},
     "output_type": "execute_result"
    }
   ],
   "source": [
    "results[results.RMSE_val == results.RMSE_val.min()].features.tolist()"
   ]
  },
  {
   "cell_type": "code",
   "execution_count": 111,
   "id": "bc0f7496",
   "metadata": {},
   "outputs": [
    {
     "data": {
      "text/plain": [
       "198704.69124455002"
      ]
     },
     "execution_count": 111,
     "metadata": {},
     "output_type": "execute_result"
    }
   ],
   "source": [
    "results.RMSE_val.min()"
   ]
  },
  {
   "cell_type": "code",
   "execution_count": null,
   "id": "8913c6fb",
   "metadata": {},
   "outputs": [],
   "source": []
  }
 ],
 "metadata": {
  "kernelspec": {
   "display_name": "Python 3 (ipykernel)",
   "language": "python",
   "name": "python3"
  },
  "language_info": {
   "codemirror_mode": {
    "name": "ipython",
    "version": 3
   },
   "file_extension": ".py",
   "mimetype": "text/x-python",
   "name": "python",
   "nbconvert_exporter": "python",
   "pygments_lexer": "ipython3",
   "version": "3.9.12"
  }
 },
 "nbformat": 4,
 "nbformat_minor": 5
}
