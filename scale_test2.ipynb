{
 "cells": [
  {
   "cell_type": "code",
   "execution_count": 1,
   "id": "016d17f4",
   "metadata": {},
   "outputs": [],
   "source": [
    "import wrangle\n",
    "import pandas as pd\n",
    "import numpy as np\n",
    "import modeling\n",
    "import explore\n",
    "import prepare\n",
    "\n",
    "import warnings\n",
    "warnings.filterwarnings(\"ignore\")\n",
    "from sklearn.feature_selection import SelectKBest, f_regression, RFE\n",
    "\n",
    "from sklearn.preprocessing import MinMaxScaler, QuantileTransformer, StandardScaler, RobustScaler\n",
    "from sklearn.metrics import mean_squared_error, r2_score\n",
    "from sklearn.linear_model import LinearRegression, LassoLars, TweedieRegressor\n",
    "from sklearn.preprocessing import PolynomialFeatures\n",
    "import xgboost as xgb\n",
    "\n",
    "from sklearn.feature_selection import SelectKBest, RFE, f_regression, SequentialFeatureSelector\n",
    "from sklearn.metrics import explained_variance_score\n",
    "\n",
    "import matplotlib.pyplot as plt"
   ]
  },
  {
   "cell_type": "code",
   "execution_count": 2,
   "id": "831e1a81",
   "metadata": {},
   "outputs": [],
   "source": [
    "train, validate, test = wrangle.wrangle_zillow()"
   ]
  },
  {
   "cell_type": "code",
   "execution_count": 3,
   "id": "f792e476",
   "metadata": {},
   "outputs": [
    {
     "data": {
      "text/plain": [
       "((25908, 21), (8637, 21), (8637, 21))"
      ]
     },
     "execution_count": 3,
     "metadata": {},
     "output_type": "execute_result"
    }
   ],
   "source": [
    "train.shape, validate.shape, test.shape"
   ]
  },
  {
   "cell_type": "code",
   "execution_count": 4,
   "id": "00f2fe57",
   "metadata": {},
   "outputs": [
    {
     "data": {
      "text/plain": [
       "50660    4300\n",
       "14557    5508\n",
       "47007     758\n",
       "26586      66\n",
       "50383     423\n",
       "         ... \n",
       "637        76\n",
       "37673     759\n",
       "32816     996\n",
       "23077    1375\n",
       "34188     994\n",
       "Name: tract, Length: 25908, dtype: int64"
      ]
     },
     "execution_count": 4,
     "metadata": {},
     "output_type": "execute_result"
    }
   ],
   "source": [
    "train.tract"
   ]
  },
  {
   "cell_type": "code",
   "execution_count": 5,
   "id": "cfdc74db",
   "metadata": {},
   "outputs": [
    {
     "data": {
      "text/html": [
       "<div>\n",
       "<style scoped>\n",
       "    .dataframe tbody tr th:only-of-type {\n",
       "        vertical-align: middle;\n",
       "    }\n",
       "\n",
       "    .dataframe tbody tr th {\n",
       "        vertical-align: top;\n",
       "    }\n",
       "\n",
       "    .dataframe thead th {\n",
       "        text-align: right;\n",
       "    }\n",
       "</style>\n",
       "<table border=\"1\" class=\"dataframe\">\n",
       "  <thead>\n",
       "    <tr style=\"text-align: right;\">\n",
       "      <th></th>\n",
       "      <th>count</th>\n",
       "      <th>mean</th>\n",
       "      <th>std</th>\n",
       "      <th>min</th>\n",
       "      <th>25%</th>\n",
       "      <th>50%</th>\n",
       "      <th>75%</th>\n",
       "      <th>max</th>\n",
       "    </tr>\n",
       "  </thead>\n",
       "  <tbody>\n",
       "    <tr>\n",
       "      <th>parcelid</th>\n",
       "      <td>25908</td>\n",
       "      <td>13007162</td>\n",
       "      <td>2586803</td>\n",
       "      <td>10711855</td>\n",
       "      <td>11503757</td>\n",
       "      <td>12653312</td>\n",
       "      <td>14128263</td>\n",
       "      <td>162960814</td>\n",
       "    </tr>\n",
       "    <tr>\n",
       "      <th>bathrooms</th>\n",
       "      <td>25908</td>\n",
       "      <td>2</td>\n",
       "      <td>0</td>\n",
       "      <td>0</td>\n",
       "      <td>2</td>\n",
       "      <td>2</td>\n",
       "      <td>2</td>\n",
       "      <td>5</td>\n",
       "    </tr>\n",
       "    <tr>\n",
       "      <th>bedrooms</th>\n",
       "      <td>25908</td>\n",
       "      <td>3</td>\n",
       "      <td>0</td>\n",
       "      <td>0</td>\n",
       "      <td>3</td>\n",
       "      <td>3</td>\n",
       "      <td>4</td>\n",
       "      <td>6</td>\n",
       "    </tr>\n",
       "    <tr>\n",
       "      <th>sqft</th>\n",
       "      <td>25908</td>\n",
       "      <td>1722</td>\n",
       "      <td>666</td>\n",
       "      <td>128</td>\n",
       "      <td>1240</td>\n",
       "      <td>1573</td>\n",
       "      <td>2073</td>\n",
       "      <td>5256</td>\n",
       "    </tr>\n",
       "    <tr>\n",
       "      <th>fireplacecnt</th>\n",
       "      <td>25908</td>\n",
       "      <td>0</td>\n",
       "      <td>0</td>\n",
       "      <td>0</td>\n",
       "      <td>0</td>\n",
       "      <td>0</td>\n",
       "      <td>0</td>\n",
       "      <td>4</td>\n",
       "    </tr>\n",
       "    <tr>\n",
       "      <th>garagecarcnt</th>\n",
       "      <td>25908</td>\n",
       "      <td>0</td>\n",
       "      <td>0</td>\n",
       "      <td>0</td>\n",
       "      <td>0</td>\n",
       "      <td>0</td>\n",
       "      <td>2</td>\n",
       "      <td>9</td>\n",
       "    </tr>\n",
       "    <tr>\n",
       "      <th>lotsize</th>\n",
       "      <td>25908</td>\n",
       "      <td>7160</td>\n",
       "      <td>3127</td>\n",
       "      <td>236</td>\n",
       "      <td>5457</td>\n",
       "      <td>6624</td>\n",
       "      <td>8039</td>\n",
       "      <td>21663</td>\n",
       "    </tr>\n",
       "    <tr>\n",
       "      <th>poolcnt</th>\n",
       "      <td>25908</td>\n",
       "      <td>0</td>\n",
       "      <td>0</td>\n",
       "      <td>0</td>\n",
       "      <td>0</td>\n",
       "      <td>0</td>\n",
       "      <td>0</td>\n",
       "      <td>1</td>\n",
       "    </tr>\n",
       "    <tr>\n",
       "      <th>lat</th>\n",
       "      <td>25908</td>\n",
       "      <td>34</td>\n",
       "      <td>0</td>\n",
       "      <td>33</td>\n",
       "      <td>33</td>\n",
       "      <td>34</td>\n",
       "      <td>34</td>\n",
       "      <td>34</td>\n",
       "    </tr>\n",
       "    <tr>\n",
       "      <th>long</th>\n",
       "      <td>25908</td>\n",
       "      <td>-118</td>\n",
       "      <td>0</td>\n",
       "      <td>-119</td>\n",
       "      <td>-118</td>\n",
       "      <td>-118</td>\n",
       "      <td>-117</td>\n",
       "      <td>-117</td>\n",
       "    </tr>\n",
       "    <tr>\n",
       "      <th>logerror</th>\n",
       "      <td>25908</td>\n",
       "      <td>0</td>\n",
       "      <td>0</td>\n",
       "      <td>-4</td>\n",
       "      <td>0</td>\n",
       "      <td>0</td>\n",
       "      <td>0</td>\n",
       "      <td>3</td>\n",
       "    </tr>\n",
       "    <tr>\n",
       "      <th>tract</th>\n",
       "      <td>25908</td>\n",
       "      <td>3050</td>\n",
       "      <td>2821</td>\n",
       "      <td>2</td>\n",
       "      <td>746</td>\n",
       "      <td>1955</td>\n",
       "      <td>5300</td>\n",
       "      <td>9800</td>\n",
       "    </tr>\n",
       "    <tr>\n",
       "      <th>tax_value</th>\n",
       "      <td>25908</td>\n",
       "      <td>368653</td>\n",
       "      <td>233119</td>\n",
       "      <td>9242</td>\n",
       "      <td>178197</td>\n",
       "      <td>338000</td>\n",
       "      <td>519971</td>\n",
       "      <td>999937</td>\n",
       "    </tr>\n",
       "    <tr>\n",
       "      <th>Los Angeles</th>\n",
       "      <td>25908</td>\n",
       "      <td>0</td>\n",
       "      <td>0</td>\n",
       "      <td>0</td>\n",
       "      <td>0</td>\n",
       "      <td>1</td>\n",
       "      <td>1</td>\n",
       "      <td>1</td>\n",
       "    </tr>\n",
       "    <tr>\n",
       "      <th>Orange</th>\n",
       "      <td>25908</td>\n",
       "      <td>0</td>\n",
       "      <td>0</td>\n",
       "      <td>0</td>\n",
       "      <td>0</td>\n",
       "      <td>0</td>\n",
       "      <td>1</td>\n",
       "      <td>1</td>\n",
       "    </tr>\n",
       "    <tr>\n",
       "      <th>Ventura</th>\n",
       "      <td>25908</td>\n",
       "      <td>0</td>\n",
       "      <td>0</td>\n",
       "      <td>0</td>\n",
       "      <td>0</td>\n",
       "      <td>0</td>\n",
       "      <td>0</td>\n",
       "      <td>1</td>\n",
       "    </tr>\n",
       "    <tr>\n",
       "      <th>age</th>\n",
       "      <td>25908</td>\n",
       "      <td>59</td>\n",
       "      <td>21</td>\n",
       "      <td>6</td>\n",
       "      <td>45</td>\n",
       "      <td>62</td>\n",
       "      <td>72</td>\n",
       "      <td>137</td>\n",
       "    </tr>\n",
       "    <tr>\n",
       "      <th>4plusBath</th>\n",
       "      <td>25908</td>\n",
       "      <td>0</td>\n",
       "      <td>0</td>\n",
       "      <td>0</td>\n",
       "      <td>0</td>\n",
       "      <td>0</td>\n",
       "      <td>0</td>\n",
       "      <td>1</td>\n",
       "    </tr>\n",
       "    <tr>\n",
       "      <th>3to5garage</th>\n",
       "      <td>25908</td>\n",
       "      <td>0</td>\n",
       "      <td>0</td>\n",
       "      <td>0</td>\n",
       "      <td>0</td>\n",
       "      <td>0</td>\n",
       "      <td>0</td>\n",
       "      <td>1</td>\n",
       "    </tr>\n",
       "    <tr>\n",
       "      <th>3plusBR</th>\n",
       "      <td>25908</td>\n",
       "      <td>0</td>\n",
       "      <td>0</td>\n",
       "      <td>0</td>\n",
       "      <td>0</td>\n",
       "      <td>0</td>\n",
       "      <td>0</td>\n",
       "      <td>1</td>\n",
       "    </tr>\n",
       "  </tbody>\n",
       "</table>\n",
       "</div>"
      ],
      "text/plain": [
       "              count      mean      std       min       25%       50%  \\\n",
       "parcelid      25908  13007162  2586803  10711855  11503757  12653312   \n",
       "bathrooms     25908         2        0         0         2         2   \n",
       "bedrooms      25908         3        0         0         3         3   \n",
       "sqft          25908      1722      666       128      1240      1573   \n",
       "fireplacecnt  25908         0        0         0         0         0   \n",
       "garagecarcnt  25908         0        0         0         0         0   \n",
       "lotsize       25908      7160     3127       236      5457      6624   \n",
       "poolcnt       25908         0        0         0         0         0   \n",
       "lat           25908        34        0        33        33        34   \n",
       "long          25908      -118        0      -119      -118      -118   \n",
       "logerror      25908         0        0        -4         0         0   \n",
       "tract         25908      3050     2821         2       746      1955   \n",
       "tax_value     25908    368653   233119      9242    178197    338000   \n",
       "Los Angeles   25908         0        0         0         0         1   \n",
       "Orange        25908         0        0         0         0         0   \n",
       "Ventura       25908         0        0         0         0         0   \n",
       "age           25908        59       21         6        45        62   \n",
       "4plusBath     25908         0        0         0         0         0   \n",
       "3to5garage    25908         0        0         0         0         0   \n",
       "3plusBR       25908         0        0         0         0         0   \n",
       "\n",
       "                   75%        max  \n",
       "parcelid      14128263  162960814  \n",
       "bathrooms            2          5  \n",
       "bedrooms             4          6  \n",
       "sqft              2073       5256  \n",
       "fireplacecnt         0          4  \n",
       "garagecarcnt         2          9  \n",
       "lotsize           8039      21663  \n",
       "poolcnt              0          1  \n",
       "lat                 34         34  \n",
       "long              -117       -117  \n",
       "logerror             0          3  \n",
       "tract             5300       9800  \n",
       "tax_value       519971     999937  \n",
       "Los Angeles          1          1  \n",
       "Orange               1          1  \n",
       "Ventura              0          1  \n",
       "age                 72        137  \n",
       "4plusBath            0          1  \n",
       "3to5garage           0          1  \n",
       "3plusBR              0          1  "
      ]
     },
     "execution_count": 5,
     "metadata": {},
     "output_type": "execute_result"
    }
   ],
   "source": [
    "train.describe().astype(int).T"
   ]
  },
  {
   "cell_type": "code",
   "execution_count": 6,
   "id": "5c812d5d",
   "metadata": {},
   "outputs": [
    {
     "data": {
      "text/plain": [
       "1324"
      ]
     },
     "execution_count": 6,
     "metadata": {},
     "output_type": "execute_result"
    }
   ],
   "source": [
    "train.tract.nunique()"
   ]
  },
  {
   "cell_type": "code",
   "execution_count": 16,
   "id": "57d34291",
   "metadata": {},
   "outputs": [],
   "source": [
    "features = ['bathrooms', 'bedrooms', 'sqft', 'fireplacecnt',\n",
    "       'garagecarcnt', 'lotsize', 'poolcnt', 'lat', 'long',\n",
    "       'tract', 'Los Angeles', 'Orange', 'age',\n",
    "       '4plusBath', '3to5garage', '3plusBR']"
   ]
  },
  {
   "cell_type": "code",
   "execution_count": 17,
   "id": "8864e51c",
   "metadata": {},
   "outputs": [],
   "source": [
    "# create X and y\n",
    "X_train = train[features]\n",
    "y_train = train['tax_value']\n",
    "\n",
    "X_validate = validate[features]\n",
    "y_validate = validate['tax_value']"
   ]
  },
  {
   "cell_type": "code",
   "execution_count": 18,
   "id": "98575305",
   "metadata": {},
   "outputs": [],
   "source": [
    "# create MinMaxScaler and fit to train\n",
    "scaler = MinMaxScaler()\n",
    "X_train[features] = scaler.fit_transform(X_train[features])\n",
    "X_validate[features] = scaler.transform(X_validate[features])\n",
    "\n",
    "# # make a dataframe\n",
    "# y_train = pd.DataFrame(y_train)\n",
    "# y_validate = pd.DataFrame(y_validate)\n",
    "\n"
   ]
  },
  {
   "cell_type": "code",
   "execution_count": 19,
   "id": "6ccd60ed",
   "metadata": {},
   "outputs": [],
   "source": [
    "def predict_baseline(y_train):\n",
    "# 1. Predict value_pred_mean\n",
    "    value_pred_mean = y_train['tax_value'].mean()\n",
    "    y_train['value_pred_mean'] = value_pred_mean\n",
    "    y_validate['value_pred_mean'] = value_pred_mean\n",
    "\n",
    "    # 2. compute value_pred_median\n",
    "    value_pred_median = y_train['tax_value'].median()\n",
    "    y_train['value_pred_median'] = value_pred_median\n",
    "    y_validate['value_pred_median'] = value_pred_median\n",
    "\n",
    "    # 3. RMSE of value_pred_mean\n",
    "    rmse_train = mean_squared_error(y_train.tax_value, y_train.value_pred_mean)**(1/2)\n",
    "    rmse_validate = mean_squared_error(y_validate.tax_value, y_validate.value_pred_mean)**(1/2)\n",
    "\n",
    "    print(\"RMSE using Mean\\nTrain/In-Sample:        \", round(rmse_train, 2), \n",
    "          \"\\nValidate/Out-of-Sample: \", round(rmse_validate, 2))\n",
    "\n",
    "    # 4. RMSE of value_pred_median\n",
    "    rmse_train = mean_squared_error(y_train.tax_value, y_train.value_pred_median)**(1/2)\n",
    "    rmse_validate = mean_squared_error(y_validate.tax_value, y_validate.value_pred_median)**(1/2)\n",
    "\n",
    "    print(\"\\nRMSE using Median\\nTrain/In-Sample:        \", round(rmse_train, 2), \n",
    "          \"\\nValidate/Out-of-Sample: \", round(rmse_validate, 2))"
   ]
  },
  {
   "cell_type": "code",
   "execution_count": 20,
   "id": "9e445941",
   "metadata": {},
   "outputs": [
    {
     "data": {
      "text/plain": [
       "31596     45155.0\n",
       "111      439797.0\n",
       "27405    273000.0\n",
       "49945    446781.0\n",
       "43312    263011.0\n",
       "           ...   \n",
       "5331     238363.0\n",
       "1405     276576.0\n",
       "26015    117438.0\n",
       "52100    412889.0\n",
       "10308    452668.0\n",
       "Name: tax_value, Length: 8637, dtype: float64"
      ]
     },
     "execution_count": 20,
     "metadata": {},
     "output_type": "execute_result"
    }
   ],
   "source": [
    "y_validate"
   ]
  },
  {
   "cell_type": "code",
   "execution_count": 21,
   "id": "672d0c77",
   "metadata": {},
   "outputs": [
    {
     "name": "stdout",
     "output_type": "stream",
     "text": [
      "RMSE using Mean\n",
      "Train/In-Sample:         233115.06 \n",
      "Validate/Out-of-Sample:  234810.22\n",
      "\n",
      "RMSE using Median\n",
      "Train/In-Sample:         235121.87 \n",
      "Validate/Out-of-Sample:  236574.11\n"
     ]
    }
   ],
   "source": [
    "modeling.predict_baseline(y_train, y_validate)"
   ]
  },
  {
   "cell_type": "code",
   "execution_count": 22,
   "id": "ebd570e4",
   "metadata": {},
   "outputs": [],
   "source": [
    "# # scale y\n",
    "# target_scaler = QuantileTransformer()\n",
    "# y_train.tax_value = target_scaler.fit_transform(y_train[['tax_value']])\n",
    "# y_validate.tax_value = target_scaler.transform(y_validate[['tax_value']])"
   ]
  },
  {
   "cell_type": "code",
   "execution_count": 23,
   "id": "ed945b14",
   "metadata": {},
   "outputs": [
    {
     "ename": "KeyError",
     "evalue": "'tax_value'",
     "output_type": "error",
     "traceback": [
      "\u001b[0;31m---------------------------------------------------------------------------\u001b[0m",
      "\u001b[0;31mKeyError\u001b[0m                                  Traceback (most recent call last)",
      "File \u001b[0;32m/opt/homebrew/anaconda3/lib/python3.9/site-packages/pandas/core/indexes/base.py:3621\u001b[0m, in \u001b[0;36mIndex.get_loc\u001b[0;34m(self, key, method, tolerance)\u001b[0m\n\u001b[1;32m   3620\u001b[0m \u001b[38;5;28;01mtry\u001b[39;00m:\n\u001b[0;32m-> 3621\u001b[0m     \u001b[38;5;28;01mreturn\u001b[39;00m \u001b[38;5;28;43mself\u001b[39;49m\u001b[38;5;241;43m.\u001b[39;49m\u001b[43m_engine\u001b[49m\u001b[38;5;241;43m.\u001b[39;49m\u001b[43mget_loc\u001b[49m\u001b[43m(\u001b[49m\u001b[43mcasted_key\u001b[49m\u001b[43m)\u001b[49m\n\u001b[1;32m   3622\u001b[0m \u001b[38;5;28;01mexcept\u001b[39;00m \u001b[38;5;167;01mKeyError\u001b[39;00m \u001b[38;5;28;01mas\u001b[39;00m err:\n",
      "File \u001b[0;32m/opt/homebrew/anaconda3/lib/python3.9/site-packages/pandas/_libs/index.pyx:136\u001b[0m, in \u001b[0;36mpandas._libs.index.IndexEngine.get_loc\u001b[0;34m()\u001b[0m\n",
      "File \u001b[0;32m/opt/homebrew/anaconda3/lib/python3.9/site-packages/pandas/_libs/index.pyx:144\u001b[0m, in \u001b[0;36mpandas._libs.index.IndexEngine.get_loc\u001b[0;34m()\u001b[0m\n",
      "File \u001b[0;32mpandas/_libs/index_class_helper.pxi:41\u001b[0m, in \u001b[0;36mpandas._libs.index.Int64Engine._check_type\u001b[0;34m()\u001b[0m\n",
      "\u001b[0;31mKeyError\u001b[0m: 'tax_value'",
      "\nThe above exception was the direct cause of the following exception:\n",
      "\u001b[0;31mKeyError\u001b[0m                                  Traceback (most recent call last)",
      "Input \u001b[0;32mIn [23]\u001b[0m, in \u001b[0;36m<cell line: 6>\u001b[0;34m()\u001b[0m\n\u001b[1;32m      2\u001b[0m lm \u001b[38;5;241m=\u001b[39m LinearRegression(normalize\u001b[38;5;241m=\u001b[39m\u001b[38;5;28;01mTrue\u001b[39;00m)\n\u001b[1;32m      4\u001b[0m \u001b[38;5;66;03m# fit the model to our training data. We must specify the column in y_train, \u001b[39;00m\n\u001b[1;32m      5\u001b[0m \u001b[38;5;66;03m# since we have converted it to a dataframe from a series! \u001b[39;00m\n\u001b[0;32m----> 6\u001b[0m lm\u001b[38;5;241m.\u001b[39mfit(X_train, \u001b[43my_train\u001b[49m\u001b[43m[\u001b[49m\u001b[38;5;124;43m'\u001b[39;49m\u001b[38;5;124;43mtax_value\u001b[39;49m\u001b[38;5;124;43m'\u001b[39;49m\u001b[43m]\u001b[49m)\n\u001b[1;32m      8\u001b[0m \u001b[38;5;66;03m# predict train\u001b[39;00m\n\u001b[1;32m      9\u001b[0m y_train[\u001b[38;5;124m'\u001b[39m\u001b[38;5;124mvalue_pred_lm\u001b[39m\u001b[38;5;124m'\u001b[39m] \u001b[38;5;241m=\u001b[39m lm\u001b[38;5;241m.\u001b[39mpredict(X_train)\n",
      "File \u001b[0;32m/opt/homebrew/anaconda3/lib/python3.9/site-packages/pandas/core/series.py:958\u001b[0m, in \u001b[0;36mSeries.__getitem__\u001b[0;34m(self, key)\u001b[0m\n\u001b[1;32m    955\u001b[0m     \u001b[38;5;28;01mreturn\u001b[39;00m \u001b[38;5;28mself\u001b[39m\u001b[38;5;241m.\u001b[39m_values[key]\n\u001b[1;32m    957\u001b[0m \u001b[38;5;28;01melif\u001b[39;00m key_is_scalar:\n\u001b[0;32m--> 958\u001b[0m     \u001b[38;5;28;01mreturn\u001b[39;00m \u001b[38;5;28;43mself\u001b[39;49m\u001b[38;5;241;43m.\u001b[39;49m\u001b[43m_get_value\u001b[49m\u001b[43m(\u001b[49m\u001b[43mkey\u001b[49m\u001b[43m)\u001b[49m\n\u001b[1;32m    960\u001b[0m \u001b[38;5;28;01mif\u001b[39;00m is_hashable(key):\n\u001b[1;32m    961\u001b[0m     \u001b[38;5;66;03m# Otherwise index.get_value will raise InvalidIndexError\u001b[39;00m\n\u001b[1;32m    962\u001b[0m     \u001b[38;5;28;01mtry\u001b[39;00m:\n\u001b[1;32m    963\u001b[0m         \u001b[38;5;66;03m# For labels that don't resolve as scalars like tuples and frozensets\u001b[39;00m\n",
      "File \u001b[0;32m/opt/homebrew/anaconda3/lib/python3.9/site-packages/pandas/core/series.py:1069\u001b[0m, in \u001b[0;36mSeries._get_value\u001b[0;34m(self, label, takeable)\u001b[0m\n\u001b[1;32m   1066\u001b[0m     \u001b[38;5;28;01mreturn\u001b[39;00m \u001b[38;5;28mself\u001b[39m\u001b[38;5;241m.\u001b[39m_values[label]\n\u001b[1;32m   1068\u001b[0m \u001b[38;5;66;03m# Similar to Index.get_value, but we do not fall back to positional\u001b[39;00m\n\u001b[0;32m-> 1069\u001b[0m loc \u001b[38;5;241m=\u001b[39m \u001b[38;5;28;43mself\u001b[39;49m\u001b[38;5;241;43m.\u001b[39;49m\u001b[43mindex\u001b[49m\u001b[38;5;241;43m.\u001b[39;49m\u001b[43mget_loc\u001b[49m\u001b[43m(\u001b[49m\u001b[43mlabel\u001b[49m\u001b[43m)\u001b[49m\n\u001b[1;32m   1070\u001b[0m \u001b[38;5;28;01mreturn\u001b[39;00m \u001b[38;5;28mself\u001b[39m\u001b[38;5;241m.\u001b[39mindex\u001b[38;5;241m.\u001b[39m_get_values_for_loc(\u001b[38;5;28mself\u001b[39m, loc, label)\n",
      "File \u001b[0;32m/opt/homebrew/anaconda3/lib/python3.9/site-packages/pandas/core/indexes/base.py:3623\u001b[0m, in \u001b[0;36mIndex.get_loc\u001b[0;34m(self, key, method, tolerance)\u001b[0m\n\u001b[1;32m   3621\u001b[0m     \u001b[38;5;28;01mreturn\u001b[39;00m \u001b[38;5;28mself\u001b[39m\u001b[38;5;241m.\u001b[39m_engine\u001b[38;5;241m.\u001b[39mget_loc(casted_key)\n\u001b[1;32m   3622\u001b[0m \u001b[38;5;28;01mexcept\u001b[39;00m \u001b[38;5;167;01mKeyError\u001b[39;00m \u001b[38;5;28;01mas\u001b[39;00m err:\n\u001b[0;32m-> 3623\u001b[0m     \u001b[38;5;28;01mraise\u001b[39;00m \u001b[38;5;167;01mKeyError\u001b[39;00m(key) \u001b[38;5;28;01mfrom\u001b[39;00m \u001b[38;5;21;01merr\u001b[39;00m\n\u001b[1;32m   3624\u001b[0m \u001b[38;5;28;01mexcept\u001b[39;00m \u001b[38;5;167;01mTypeError\u001b[39;00m:\n\u001b[1;32m   3625\u001b[0m     \u001b[38;5;66;03m# If we have a listlike key, _check_indexing_error will raise\u001b[39;00m\n\u001b[1;32m   3626\u001b[0m     \u001b[38;5;66;03m#  InvalidIndexError. Otherwise we fall through and re-raise\u001b[39;00m\n\u001b[1;32m   3627\u001b[0m     \u001b[38;5;66;03m#  the TypeError.\u001b[39;00m\n\u001b[1;32m   3628\u001b[0m     \u001b[38;5;28mself\u001b[39m\u001b[38;5;241m.\u001b[39m_check_indexing_error(key)\n",
      "\u001b[0;31mKeyError\u001b[0m: 'tax_value'"
     ]
    }
   ],
   "source": [
    "# create the model object\n",
    "lm = LinearRegression(normalize=True)\n",
    "\n",
    "# fit the model to our training data. We must specify the column in y_train, \n",
    "# since we have converted it to a dataframe from a series! \n",
    "lm.fit(X_train, y_train['tax_value'])\n",
    "\n",
    "# predict train\n",
    "y_train['value_pred_lm'] = lm.predict(X_train)\n",
    "#y_train['value_pred_lm'] = target_scaler.inverse_transform(y_train[['value_pred_lm']])\n",
    "\n",
    "# evaluate: rmse\n",
    "rmse_train = mean_squared_error(y_train.tax_value, y_train.value_pred_lm)**(1/2)\n",
    "\n",
    "# predict validate\n",
    "y_validate['value_pred_lm'] = lm.predict(X_validate)\n",
    "#y_validate['value_pred_lm'] = target_scaler.inverse_transform(y_validate[['value_pred_lm']])\n",
    "\n",
    "# evaluate: rmse\n",
    "rmse_validate = mean_squared_error(y_validate.tax_value, y_validate.value_pred_lm)**(1/2)\n",
    "\n",
    "print(\"RMSE for OLS using LinearRegression\\nTraining/In-Sample: \", rmse_train, \n",
    "      \"\\nValidation/Out-of-Sample: \", rmse_validate)"
   ]
  },
  {
   "cell_type": "code",
   "execution_count": null,
   "id": "8c0cb28d",
   "metadata": {},
   "outputs": [],
   "source": [
    "# create the model object\n",
    "lars = LassoLars(alpha=0)\n",
    "\n",
    "# fit the model to our training data. We must specify the column in y_train, \n",
    "# since we have converted it to a dataframe from a series! \n",
    "lars.fit(X_train, y_train['tax_value'])\n",
    "\n",
    "# predict train\n",
    "y_train['value_pred_llars'] = lars.predict(X_train)\n",
    "#y_train['value_pred_llars'] = target_scaler.inverse_transform(y_train[['value_pred_llars']])\n",
    "\n",
    "# evaluate: rmse\n",
    "rmse_train = mean_squared_error(y_train.tax_value, y_train.value_pred_llars)**(1/2)\n",
    "\n",
    "# predict validate\n",
    "y_validate['value_pred_llars'] = lars.predict(X_validate)\n",
    "#y_validate['value_pred_llars'] = target_scaler.inverse_transform(y_validate[['value_pred_llars']])\n",
    "\n",
    "# evaluate: rmse\n",
    "rmse_validate = mean_squared_error(y_validate.tax_value, y_validate.value_pred_llars)**(1/2)\n",
    "\n",
    "print(\"RMSE for Lasso + Lars\\nTraining/In-Sample: \", rmse_train, \n",
    "      \"\\nValidation/Out-of-Sample: \", rmse_validate)"
   ]
  },
  {
   "cell_type": "code",
   "execution_count": null,
   "id": "f236efc2",
   "metadata": {},
   "outputs": [],
   "source": []
  },
  {
   "cell_type": "code",
   "execution_count": null,
   "id": "735607f2",
   "metadata": {},
   "outputs": [],
   "source": [
    "# create the model object\n",
    "glm = TweedieRegressor(power=0, alpha=0) # changed power to 0 since we normalized the target\n",
    "\n",
    "# fit the model to our training data. We must specify the column in y_train, \n",
    "# since we have converted it to a dataframe from a series! \n",
    "glm.fit(X_train, y_train['tax_value'])\n",
    "\n",
    "# predict train\n",
    "y_train['value_pred_glm'] = glm.predict(X_train)\n",
    "#y_train['value_pred_glm'] = target_scaler.inverse_transform(y_train[['value_pred_glm']])\n",
    "\n",
    "# evaluate: rmse\n",
    "rmse_train = mean_squared_error(y_train.tax_value, y_train.value_pred_glm)**(1/2)\n",
    "\n",
    "# predict validate\n",
    "y_validate['value_pred_glm'] = glm.predict(X_validate)\n",
    "#y_validate['value_pred_glm'] = target_scaler.inverse_transform(y_validate[['value_pred_glm']])\n",
    "\n",
    "# evaluate: rmse\n",
    "rmse_validate = mean_squared_error(y_validate.tax_value, y_validate.value_pred_glm)**(1/2)\n",
    "\n",
    "print(\"RMSE for GLM using Tweedie, power=1 & alpha=0\\nTraining/In-Sample: \", rmse_train, \n",
    "      \"\\nValidation/Out-of-Sample: \", rmse_validate)"
   ]
  },
  {
   "cell_type": "markdown",
   "id": "0184a3cc",
   "metadata": {},
   "source": [
    "# Polynomial Regression"
   ]
  },
  {
   "cell_type": "code",
   "execution_count": null,
   "id": "0f3be880",
   "metadata": {},
   "outputs": [],
   "source": [
    "# create the model object\n",
    "pf = PolynomialFeatures(degree=2)\n",
    "\n",
    "# create the X and y datasets\n",
    "X2_train = train[features]\n",
    "\n",
    "X2_validate = validate[features]\n",
    "\n",
    " "
   ]
  },
  {
   "cell_type": "code",
   "execution_count": null,
   "id": "cbb74834",
   "metadata": {},
   "outputs": [],
   "source": [
    "# fit the model to our training data. We must specify the column in y_train, \n",
    "lm2 = LinearRegression(normalize=True)\n",
    "\n",
    "# since we have converted it to a dataframe from a series! \n",
    "lm2.fit(X2_train, y_train.tax_value)\n",
    "\n",
    "# predict train\n",
    "y_train['value_pred_lm2'] = lm2.predict(X2_train)\n",
    "#y_train['value_pred_lm2'] = target_scaler.inverse_transform(y_train[['value_pred_lm2']])\n",
    "\n",
    "# evaluate: rmse\n",
    "rmse_train = mean_squared_error(y_train.tax_value, y_train.value_pred_lm2)**(1/2)\n",
    "\n",
    "# predict validate\n",
    "y_validate['value_pred_lm2'] = lm2.predict(X2_validate)\n",
    "#y_validate['value_pred_lm2'] = target_scaler.inverse_transform(y_validate[['value_pred_lm2']])\n",
    "\n",
    "# evaluate: rmse\n",
    "rmse_validate = mean_squared_error(y_validate.tax_value, y_validate.value_pred_lm2)**(1/2)\n",
    "\n",
    "print(\"RMSE for Polynomial Model, degrees=2\\nTraining/In-Sample: \", rmse_train, \n",
    "      \"\\nValidation/Out-of-Sample: \", rmse_validate)"
   ]
  },
  {
   "cell_type": "code",
   "execution_count": null,
   "id": "5b0b5a6e",
   "metadata": {},
   "outputs": [],
   "source": []
  },
  {
   "cell_type": "code",
   "execution_count": null,
   "id": "7d3c6f49",
   "metadata": {},
   "outputs": [],
   "source": [
    "y_train"
   ]
  },
  {
   "cell_type": "code",
   "execution_count": null,
   "id": "db8a2e77",
   "metadata": {},
   "outputs": [],
   "source": [
    "def zillow_model(model, X_train, y_train, X_val, y_val, features):\n",
    "    \n",
    "    \n",
    "    model.fit(X_train[features], y_train)\n",
    "    \n",
    "    yhat = model.predict(X_train[features])\n",
    "    yhat_val = model.predict(X_val[features])\n",
    "    \n",
    "    rmse = mean_squared_error(y_train, yhat, squared=False)\n",
    "    rmse_val = mean_squared_error(y_val, yhat_val, squared=False)\n",
    "    print(\"RMSE for\",model,\"\\nTraining/In-Sample: \", rmse,\n",
    "          \"\\nValidation/Out-of-Sample: \", rmse_val)\n",
    "    return model, rmse, rmse_val, features\n",
    "      \n"
   ]
  },
  {
   "cell_type": "code",
   "execution_count": null,
   "id": "7a8d599d",
   "metadata": {},
   "outputs": [],
   "source": [
    "results = pd.DataFrame(columns = ['model', 'RMSE_train', 'RMSE_val', 'features'])"
   ]
  },
  {
   "cell_type": "code",
   "execution_count": null,
   "id": "cee72ed9",
   "metadata": {},
   "outputs": [],
   "source": [
    "model_list = [LinearRegression(normalize=True), LassoLars(alpha=0), TweedieRegressor(power=0, alpha=0) ]"
   ]
  },
  {
   "cell_type": "code",
   "execution_count": null,
   "id": "8af2ce2e",
   "metadata": {
    "scrolled": false
   },
   "outputs": [],
   "source": [
    "zillow_model(LinearRegression(normalize=True), train, train.tax_value, validate, validate.tax_value, features)"
   ]
  },
  {
   "cell_type": "code",
   "execution_count": null,
   "id": "12ef4ecd",
   "metadata": {},
   "outputs": [],
   "source": [
    "results.loc[len(results)] = newresult"
   ]
  },
  {
   "cell_type": "code",
   "execution_count": null,
   "id": "9c4b88f3",
   "metadata": {},
   "outputs": [],
   "source": [
    "results"
   ]
  },
  {
   "cell_type": "code",
   "execution_count": null,
   "id": "9e033d07",
   "metadata": {},
   "outputs": [],
   "source": [
    "model_list = [LinearRegression(normalize=False), LassoLars(alpha=0), TweedieRegressor(power=0, alpha=0) ]"
   ]
  },
  {
   "cell_type": "code",
   "execution_count": null,
   "id": "60962d92",
   "metadata": {},
   "outputs": [],
   "source": [
    "for model in model_list:\n",
    "    newresult = zillow_model(model, train, train.tax_value, validate, validate.tax_value, features)\n",
    "    results.loc[len(results)] = newresult"
   ]
  },
  {
   "cell_type": "code",
   "execution_count": null,
   "id": "aee92e5a",
   "metadata": {},
   "outputs": [],
   "source": [
    "train.columns"
   ]
  },
  {
   "cell_type": "code",
   "execution_count": null,
   "id": "cdecac30",
   "metadata": {},
   "outputs": [],
   "source": [
    "features = ['bathrooms',\n",
    "  'bedrooms',\n",
    "  'sqft',\n",
    "  'fireplacecnt',\n",
    "  'garagecarcnt',\n",
    "  'lotsize',\n",
    "  'poolcnt',\n",
    "  'lat',\n",
    "  'long',\n",
    "  'tract',\n",
    "  'Los Angeles',\n",
    "  'Orange',\n",
    "  'age',\n",
    "  '4plusBath',\n",
    "  '3to5garage']"
   ]
  },
  {
   "cell_type": "code",
   "execution_count": null,
   "id": "2e457e45",
   "metadata": {},
   "outputs": [],
   "source": [
    "results[results.RMSE_val == results.RMSE_val.min()].features.tolist()"
   ]
  },
  {
   "cell_type": "code",
   "execution_count": null,
   "id": "bc0f7496",
   "metadata": {},
   "outputs": [],
   "source": [
    "results.RMSE_val.min()"
   ]
  },
  {
   "cell_type": "code",
   "execution_count": null,
   "id": "8913c6fb",
   "metadata": {},
   "outputs": [],
   "source": []
  }
 ],
 "metadata": {
  "kernelspec": {
   "display_name": "Python 3 (ipykernel)",
   "language": "python",
   "name": "python3"
  },
  "language_info": {
   "codemirror_mode": {
    "name": "ipython",
    "version": 3
   },
   "file_extension": ".py",
   "mimetype": "text/x-python",
   "name": "python",
   "nbconvert_exporter": "python",
   "pygments_lexer": "ipython3",
   "version": "3.9.12"
  }
 },
 "nbformat": 4,
 "nbformat_minor": 5
}
