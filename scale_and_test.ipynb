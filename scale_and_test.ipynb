{
 "cells": [
  {
   "cell_type": "code",
   "execution_count": 1,
   "id": "909b57e7",
   "metadata": {},
   "outputs": [],
   "source": [
    "import wrangle\n",
    "import pandas as pd\n",
    "import numpy as np\n",
    "import modeling\n",
    "\n",
    "import warnings\n",
    "warnings.filterwarnings(\"ignore\")\n",
    "\n",
    "from sklearn.preprocessing import MinMaxScaler, QuantileTransformer"
   ]
  },
  {
   "cell_type": "code",
   "execution_count": 2,
   "id": "1387bc91",
   "metadata": {},
   "outputs": [],
   "source": [
    "train, validate, test = wrangle.wrangle_zillow()"
   ]
  },
  {
   "cell_type": "code",
   "execution_count": 3,
   "id": "efda53e0",
   "metadata": {},
   "outputs": [
    {
     "data": {
      "text/plain": [
       "((27696, 17), (9233, 17), (9233, 17))"
      ]
     },
     "execution_count": 3,
     "metadata": {},
     "output_type": "execute_result"
    }
   ],
   "source": [
    "train.shape, validate.shape, test.shape"
   ]
  },
  {
   "cell_type": "code",
   "execution_count": 4,
   "id": "9fd4eab0",
   "metadata": {},
   "outputs": [
    {
     "data": {
      "text/html": [
       "<div>\n",
       "<style scoped>\n",
       "    .dataframe tbody tr th:only-of-type {\n",
       "        vertical-align: middle;\n",
       "    }\n",
       "\n",
       "    .dataframe tbody tr th {\n",
       "        vertical-align: top;\n",
       "    }\n",
       "\n",
       "    .dataframe thead th {\n",
       "        text-align: right;\n",
       "    }\n",
       "</style>\n",
       "<table border=\"1\" class=\"dataframe\">\n",
       "  <thead>\n",
       "    <tr style=\"text-align: right;\">\n",
       "      <th></th>\n",
       "      <th>41050</th>\n",
       "      <th>639</th>\n",
       "      <th>9551</th>\n",
       "      <th>17505</th>\n",
       "      <th>49962</th>\n",
       "    </tr>\n",
       "  </thead>\n",
       "  <tbody>\n",
       "    <tr>\n",
       "      <th>parcelid</th>\n",
       "      <td>12447572</td>\n",
       "      <td>12796007</td>\n",
       "      <td>17096073</td>\n",
       "      <td>10829225</td>\n",
       "      <td>12581046</td>\n",
       "    </tr>\n",
       "    <tr>\n",
       "      <th>bathrooms</th>\n",
       "      <td>1.0</td>\n",
       "      <td>1.0</td>\n",
       "      <td>2.5</td>\n",
       "      <td>2.0</td>\n",
       "      <td>1.0</td>\n",
       "    </tr>\n",
       "    <tr>\n",
       "      <th>bedrooms</th>\n",
       "      <td>3.0</td>\n",
       "      <td>3.0</td>\n",
       "      <td>4.0</td>\n",
       "      <td>3.0</td>\n",
       "      <td>2.0</td>\n",
       "    </tr>\n",
       "    <tr>\n",
       "      <th>sqft</th>\n",
       "      <td>1120.0</td>\n",
       "      <td>1513.0</td>\n",
       "      <td>1943.0</td>\n",
       "      <td>1316.0</td>\n",
       "      <td>775.0</td>\n",
       "    </tr>\n",
       "    <tr>\n",
       "      <th>county</th>\n",
       "      <td>Los Angeles</td>\n",
       "      <td>Los Angeles</td>\n",
       "      <td>Ventura</td>\n",
       "      <td>Los Angeles</td>\n",
       "      <td>Los Angeles</td>\n",
       "    </tr>\n",
       "    <tr>\n",
       "      <th>fireplacecnt</th>\n",
       "      <td>0.0</td>\n",
       "      <td>0.0</td>\n",
       "      <td>1.0</td>\n",
       "      <td>0.0</td>\n",
       "      <td>0.0</td>\n",
       "    </tr>\n",
       "    <tr>\n",
       "      <th>garagecarcnt</th>\n",
       "      <td>0.0</td>\n",
       "      <td>0.0</td>\n",
       "      <td>2.0</td>\n",
       "      <td>0.0</td>\n",
       "      <td>0.0</td>\n",
       "    </tr>\n",
       "    <tr>\n",
       "      <th>lotsize</th>\n",
       "      <td>5940.0</td>\n",
       "      <td>6324.0</td>\n",
       "      <td>3136.0</td>\n",
       "      <td>6129.0</td>\n",
       "      <td>5885.0</td>\n",
       "    </tr>\n",
       "    <tr>\n",
       "      <th>yearbuilt</th>\n",
       "      <td>1947.0</td>\n",
       "      <td>1950.0</td>\n",
       "      <td>2012.0</td>\n",
       "      <td>1949.0</td>\n",
       "      <td>1943.0</td>\n",
       "    </tr>\n",
       "    <tr>\n",
       "      <th>poolcnt</th>\n",
       "      <td>0.0</td>\n",
       "      <td>0.0</td>\n",
       "      <td>0.0</td>\n",
       "      <td>0.0</td>\n",
       "      <td>0.0</td>\n",
       "    </tr>\n",
       "    <tr>\n",
       "      <th>logerror</th>\n",
       "      <td>0.006195</td>\n",
       "      <td>0.010688</td>\n",
       "      <td>0.019051</td>\n",
       "      <td>0.000445</td>\n",
       "      <td>-0.064025</td>\n",
       "    </tr>\n",
       "    <tr>\n",
       "      <th>tract</th>\n",
       "      <td>5702</td>\n",
       "      <td>5019</td>\n",
       "      <td>13</td>\n",
       "      <td>1278</td>\n",
       "      <td>5437</td>\n",
       "    </tr>\n",
       "    <tr>\n",
       "      <th>tax_value</th>\n",
       "      <td>254647.0</td>\n",
       "      <td>385686.0</td>\n",
       "      <td>461740.0</td>\n",
       "      <td>381638.0</td>\n",
       "      <td>48199.0</td>\n",
       "    </tr>\n",
       "    <tr>\n",
       "      <th>Orange</th>\n",
       "      <td>0</td>\n",
       "      <td>0</td>\n",
       "      <td>0</td>\n",
       "      <td>0</td>\n",
       "      <td>0</td>\n",
       "    </tr>\n",
       "    <tr>\n",
       "      <th>Ventura</th>\n",
       "      <td>0</td>\n",
       "      <td>0</td>\n",
       "      <td>1</td>\n",
       "      <td>0</td>\n",
       "      <td>0</td>\n",
       "    </tr>\n",
       "    <tr>\n",
       "      <th>4plusBath</th>\n",
       "      <td>0</td>\n",
       "      <td>0</td>\n",
       "      <td>0</td>\n",
       "      <td>0</td>\n",
       "      <td>0</td>\n",
       "    </tr>\n",
       "    <tr>\n",
       "      <th>3to5garage</th>\n",
       "      <td>0</td>\n",
       "      <td>0</td>\n",
       "      <td>0</td>\n",
       "      <td>0</td>\n",
       "      <td>0</td>\n",
       "    </tr>\n",
       "  </tbody>\n",
       "</table>\n",
       "</div>"
      ],
      "text/plain": [
       "                    41050        639       9551         17505        49962\n",
       "parcelid         12447572     12796007  17096073     10829225     12581046\n",
       "bathrooms             1.0          1.0       2.5          2.0          1.0\n",
       "bedrooms              3.0          3.0       4.0          3.0          2.0\n",
       "sqft               1120.0       1513.0    1943.0       1316.0        775.0\n",
       "county        Los Angeles  Los Angeles   Ventura  Los Angeles  Los Angeles\n",
       "fireplacecnt          0.0          0.0       1.0          0.0          0.0\n",
       "garagecarcnt          0.0          0.0       2.0          0.0          0.0\n",
       "lotsize            5940.0       6324.0    3136.0       6129.0       5885.0\n",
       "yearbuilt          1947.0       1950.0    2012.0       1949.0       1943.0\n",
       "poolcnt               0.0          0.0       0.0          0.0          0.0\n",
       "logerror         0.006195     0.010688  0.019051     0.000445    -0.064025\n",
       "tract                5702         5019        13         1278         5437\n",
       "tax_value        254647.0     385686.0  461740.0     381638.0      48199.0\n",
       "Orange                  0            0         0            0            0\n",
       "Ventura                 0            0         1            0            0\n",
       "4plusBath               0            0         0            0            0\n",
       "3to5garage              0            0         0            0            0"
      ]
     },
     "execution_count": 4,
     "metadata": {},
     "output_type": "execute_result"
    }
   ],
   "source": [
    "train.head().T"
   ]
  },
  {
   "cell_type": "code",
   "execution_count": 12,
   "id": "a6a40230",
   "metadata": {},
   "outputs": [
    {
     "data": {
      "text/plain": [
       "Index(['parcelid', 'bathrooms', 'bedrooms', 'sqft', 'county', 'fireplacecnt',\n",
       "       'garagecarcnt', 'lotsize', 'yearbuilt', 'poolcnt', 'logerror', 'tract',\n",
       "       'tax_value', 'Orange', 'Ventura', '4plusBath', '3to5garage'],\n",
       "      dtype='object')"
      ]
     },
     "execution_count": 12,
     "metadata": {},
     "output_type": "execute_result"
    }
   ],
   "source": [
    "# scale features\n",
    "train.columns"
   ]
  },
  {
   "cell_type": "code",
   "execution_count": 5,
   "id": "6204898a",
   "metadata": {},
   "outputs": [],
   "source": [
    "features = ['bedrooms', 'sqft', 'fireplacecnt', 'garagecarcnt', 'lotsize', 'yearbuilt', 'poolcnt','4plusBath',\n",
    "            'Orange', 'Ventura']"
   ]
  },
  {
   "cell_type": "code",
   "execution_count": 6,
   "id": "fca64a6f",
   "metadata": {},
   "outputs": [],
   "source": [
    "X_train = train[features]\n",
    "y_train = train['tax_value']\n",
    "\n",
    "X_validate = validate[features]\n",
    "y_validate = validate['tax_value']\n",
    "\n",
    "X_test = test[features]\n",
    "y_test = test['tax_value']"
   ]
  },
  {
   "cell_type": "code",
   "execution_count": null,
   "id": "13499347",
   "metadata": {},
   "outputs": [],
   "source": []
  },
  {
   "cell_type": "code",
   "execution_count": 7,
   "id": "8939968a",
   "metadata": {},
   "outputs": [],
   "source": [
    "scaler = QuantileTransformer(output_distribution = 'normal')\n",
    "s_train = modeling.scaler(scaler, X_train, y_train)"
   ]
  },
  {
   "cell_type": "code",
   "execution_count": 8,
   "id": "8e7cd2b7",
   "metadata": {},
   "outputs": [
    {
     "data": {
      "text/plain": [
       "array([[-0.23550885, -1.01877814, -5.19933758, ..., -5.19933758,\n",
       "        -5.19933758, -5.19933758],\n",
       "       [-0.23550885, -0.16128127, -5.19933758, ..., -5.19933758,\n",
       "        -5.19933758, -5.19933758],\n",
       "       [ 0.78162595,  0.43210422,  1.40453311, ..., -5.19933758,\n",
       "        -5.19933758,  5.19933758],\n",
       "       ...,\n",
       "       [-0.23550885, -1.19976601, -5.19933758, ..., -5.19933758,\n",
       "        -5.19933758, -5.19933758],\n",
       "       [-0.23550885,  0.29660674,  1.40453311, ..., -5.19933758,\n",
       "         5.19933758, -5.19933758],\n",
       "       [-0.23550885, -0.16001041, -5.19933758, ..., -5.19933758,\n",
       "        -5.19933758, -5.19933758]])"
      ]
     },
     "execution_count": 8,
     "metadata": {},
     "output_type": "execute_result"
    }
   ],
   "source": [
    "s_train"
   ]
  },
  {
   "cell_type": "code",
   "execution_count": 10,
   "id": "c7677736",
   "metadata": {},
   "outputs": [
    {
     "data": {
      "text/plain": [
       "[10, 9, 8, 7, 6, 5, 4, 3, 2, 1]"
      ]
     },
     "execution_count": 10,
     "metadata": {},
     "output_type": "execute_result"
    }
   ],
   "source": [
    "list(reversed(range(1,11)))"
   ]
  },
  {
   "cell_type": "code",
   "execution_count": null,
   "id": "b279c9ca",
   "metadata": {},
   "outputs": [],
   "source": []
  }
 ],
 "metadata": {
  "kernelspec": {
   "display_name": "Python 3 (ipykernel)",
   "language": "python",
   "name": "python3"
  },
  "language_info": {
   "codemirror_mode": {
    "name": "ipython",
    "version": 3
   },
   "file_extension": ".py",
   "mimetype": "text/x-python",
   "name": "python",
   "nbconvert_exporter": "python",
   "pygments_lexer": "ipython3",
   "version": "3.9.12"
  }
 },
 "nbformat": 4,
 "nbformat_minor": 5
}
